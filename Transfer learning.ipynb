{
  "nbformat": 4,
  "nbformat_minor": 0,
  "metadata": {
    "colab": {
      "provenance": [],
      "collapsed_sections": [
        "YQ4OiIP-zS6i",
        "dp4OhUvWhYHG"
      ]
    },
    "kernelspec": {
      "name": "python3",
      "display_name": "Python 3"
    },
    "language_info": {
      "name": "python"
    },
    "accelerator": "GPU",
    "gpuClass": "standard"
  },
  "cells": [
    {
      "cell_type": "code",
      "source": [
        "from google.colab import drive\n",
        "drive.mount('/content/drive')"
      ],
      "metadata": {
        "id": "vib5MsV0kYYX",
        "outputId": "9b290617-4ec5-4456-ac56-f72d89bf0793",
        "colab": {
          "base_uri": "https://localhost:8080/"
        }
      },
      "execution_count": 3,
      "outputs": [
        {
          "output_type": "stream",
          "name": "stdout",
          "text": [
            "Mounted at /content/drive\n"
          ]
        }
      ]
    },
    {
      "cell_type": "code",
      "source": [
        "#base_dir = 'content/drive/MyDrive/Brian_tumor_classification'\n",
        "import os\n",
        "os.chdir('/content/drive/MyDrive/Brain_tumor_classification')"
      ],
      "metadata": {
        "id": "EshuKqQ0usL_"
      },
      "execution_count": null,
      "outputs": []
    },
    {
      "cell_type": "markdown",
      "source": [
        "#Custom CNN"
      ],
      "metadata": {
        "id": "iF85QgEw_4MW"
      }
    },
    {
      "cell_type": "code",
      "source": [
        "!pwd"
      ],
      "metadata": {
        "id": "Tu0f8fR4GT_k",
        "colab": {
          "base_uri": "https://localhost:8080/"
        },
        "outputId": "cf4a21d4-7187-4a47-a61b-fa69b665e2fb"
      },
      "execution_count": 2,
      "outputs": [
        {
          "output_type": "stream",
          "name": "stdout",
          "text": [
            "/content\n"
          ]
        }
      ]
    },
    {
      "cell_type": "code",
      "source": [
        "# !mkdir brain_tumor_dataset"
      ],
      "metadata": {
        "id": "DkZPVWIZ4ne2"
      },
      "execution_count": null,
      "outputs": []
    },
    {
      "cell_type": "code",
      "source": [
        "# !ls"
      ],
      "metadata": {
        "id": "BotoaOgf41Kv"
      },
      "execution_count": null,
      "outputs": []
    },
    {
      "cell_type": "code",
      "source": [
        "# !unzip brain_tumor_dataset.zip -d brain_tumor_dataset/"
      ],
      "metadata": {
        "id": "D8dRnduA5DM_"
      },
      "execution_count": null,
      "outputs": []
    },
    {
      "cell_type": "code",
      "source": [
        "! ls"
      ],
      "metadata": {
        "id": "-37g5ilj5_d5",
        "colab": {
          "base_uri": "https://localhost:8080/"
        },
        "outputId": "9faaff04-54d1-41f6-b256-33a30a4ba4d2"
      },
      "execution_count": null,
      "outputs": [
        {
          "output_type": "stream",
          "name": "stdout",
          "text": [
            "brain_tumor_dataset\t graph\t      logs   saved_model\n",
            "brain_tumor_dataset.zip  kaggle.json  saved\n"
          ]
        }
      ]
    },
    {
      "cell_type": "code",
      "source": [
        "import matplotlib.pyplot as plt\n",
        "import pandas as pd\n",
        "import numpy as np\n",
        "import os\n",
        "import cv2\n",
        "import PIL\n",
        "from tqdm import tqdm\n",
        "from sklearn.utils import shuffle\n",
        "from sklearn.model_selection import train_test_split\n",
        "import tensorflow as tf\n",
        "from tensorflow import keras\n",
        "from keras import layers, activations\n",
        "from keras.layers import Conv2D, Activation, MaxPooling2D, GlobalAveragePooling2D, Dense, Flatten, Dropout, BatchNormalization, RandomZoom, RandomFlip, RandomRotation, RandomContrast\n",
        "from keras.models import Sequential\n",
        "import datetime\n",
        "import seaborn as sns\n",
        "from sklearn.metrics import multilabel_confusion_matrix, classification_report, confusion_matrix"
      ],
      "metadata": {
        "id": "tBsmC9OR0lzZ"
      },
      "execution_count": 17,
      "outputs": []
    },
    {
      "cell_type": "code",
      "source": [
        "data_dir = '/content/drive/MyDrive/Brain_tumor_classification/brain_tumor_dataset/'\n",
        "data_dir"
      ],
      "metadata": {
        "colab": {
          "base_uri": "https://localhost:8080/",
          "height": 36
        },
        "id": "CycT2-D135H_",
        "outputId": "46e91573-df6d-42c8-ad94-180ad7658b16"
      },
      "execution_count": 22,
      "outputs": [
        {
          "output_type": "execute_result",
          "data": {
            "text/plain": [
              "'/content/drive/MyDrive/Brain_tumor_classification/brain_tumor_dataset/'"
            ],
            "application/vnd.google.colaboratory.intrinsic+json": {
              "type": "string"
            }
          },
          "metadata": {},
          "execution_count": 22
        }
      ]
    },
    {
      "cell_type": "code",
      "source": [
        "import pathlib\n",
        "data_dir = pathlib.Path(data_dir)\n",
        "data_dir  "
      ],
      "metadata": {
        "colab": {
          "base_uri": "https://localhost:8080/"
        },
        "id": "WveyrPQp52Ty",
        "outputId": "d4f716c7-5fa1-4e2a-ccb6-9f50b591f24f"
      },
      "execution_count": 23,
      "outputs": [
        {
          "output_type": "execute_result",
          "data": {
            "text/plain": [
              "PosixPath('/content/drive/MyDrive/Brain_tumor_classification/brain_tumor_dataset')"
            ]
          },
          "metadata": {},
          "execution_count": 23
        }
      ]
    },
    {
      "cell_type": "code",
      "source": [
        "image_count = len(list(data_dir.glob('*/*/*.jpg')))\n",
        "image_count"
      ],
      "metadata": {
        "colab": {
          "base_uri": "https://localhost:8080/"
        },
        "id": "LXHRGRn66Q2J",
        "outputId": "7c5b9145-d1df-4339-f376-3766dc3b46c1"
      },
      "execution_count": 24,
      "outputs": [
        {
          "output_type": "execute_result",
          "data": {
            "text/plain": [
              "7023"
            ]
          },
          "metadata": {},
          "execution_count": 24
        }
      ]
    },
    {
      "cell_type": "code",
      "source": [
        "glioma_tumor = list(data_dir.glob('*/glioma/*'))\n",
        "glioma_tumor[:5]"
      ],
      "metadata": {
        "colab": {
          "base_uri": "https://localhost:8080/"
        },
        "id": "3n5NzNEq7zcl",
        "outputId": "73f0bba5-1dee-4b64-9d02-defd024c8615"
      },
      "execution_count": 21,
      "outputs": [
        {
          "output_type": "execute_result",
          "data": {
            "text/plain": [
              "[]"
            ]
          },
          "metadata": {},
          "execution_count": 21
        }
      ]
    },
    {
      "cell_type": "code",
      "source": [
        "labels = ['glioma', 'meningioma', 'notumor', 'pituitary']"
      ],
      "metadata": {
        "id": "gFGP2zUb-5s1"
      },
      "execution_count": 15,
      "outputs": []
    },
    {
      "cell_type": "code",
      "source": [
        "X = [] #Training Dataset\n",
        "y = [] #Training Labels\n",
        "\n",
        "image_size=150\n",
        "\n",
        "for i in labels:\n",
        "    folderPath = os.path.join(data_dir, 'Training', i)\n",
        "    for j in tqdm(os.listdir(folderPath)):\n",
        "        image = cv2.imread(os.path.join(folderPath, j))\n",
        "        image = cv2.resize(image, (image_size, image_size))\n",
        "        X.append(image)\n",
        "        y.append(i)\n",
        "        \n",
        "        \n",
        "for i in labels:\n",
        "    folderPath = os.path.join(data_dir, 'Testing', i) # Join two or more pathname components\n",
        "    for j in tqdm(os.listdir(folderPath)):\n",
        "        image = cv2.imread(os.path.join(folderPath, j))\n",
        "        image = cv2.resize(image, (image_size, image_size))\n",
        "        X.append(image)\n",
        "        y.append(i)\n",
        "        \n",
        "#Image and Label is appended as list, now is to be converted into array\n",
        "X = np.array(X)\n",
        "y = np.array(y)"
      ],
      "metadata": {
        "colab": {
          "base_uri": "https://localhost:8080/"
        },
        "id": "hIm02MAB_Ffz",
        "outputId": "64978376-7543-49d7-f565-eebd357ee021"
      },
      "execution_count": 25,
      "outputs": [
        {
          "output_type": "stream",
          "name": "stderr",
          "text": [
            "100%|██████████| 1321/1321 [00:21<00:00, 60.95it/s] \n",
            "100%|██████████| 1339/1339 [00:24<00:00, 55.13it/s] \n",
            "100%|██████████| 1595/1595 [00:28<00:00, 55.08it/s] \n",
            "100%|██████████| 1457/1457 [00:27<00:00, 53.02it/s] \n",
            "100%|██████████| 300/300 [00:04<00:00, 61.83it/s] \n",
            "100%|██████████| 306/306 [00:07<00:00, 42.13it/s] \n",
            "100%|██████████| 405/405 [00:05<00:00, 78.52it/s] \n",
            "100%|██████████| 300/300 [00:04<00:00, 63.74it/s] \n"
          ]
        }
      ]
    },
    {
      "cell_type": "code",
      "source": [
        "X.shape"
      ],
      "metadata": {
        "colab": {
          "base_uri": "https://localhost:8080/"
        },
        "id": "80j9wuOYFOv1",
        "outputId": "4ac8f64b-434a-4263-f1eb-c8be4e56729c"
      },
      "execution_count": 26,
      "outputs": [
        {
          "output_type": "execute_result",
          "data": {
            "text/plain": [
              "(7023, 150, 150, 3)"
            ]
          },
          "metadata": {},
          "execution_count": 26
        }
      ]
    },
    {
      "cell_type": "code",
      "source": [
        "from sklearn.model_selection import train_test_split\n",
        "X_train, X_test, y_train, y_test = train_test_split(X, y, test_size=0.1, random_state=142)"
      ],
      "metadata": {
        "id": "BstlGA2_pdkr"
      },
      "execution_count": 27,
      "outputs": []
    },
    {
      "cell_type": "code",
      "source": [
        "X_train.shape"
      ],
      "metadata": {
        "colab": {
          "base_uri": "https://localhost:8080/"
        },
        "id": "8HjaaknM4Nnk",
        "outputId": "4138df26-b21a-440d-ad02-4bbd310328fb"
      },
      "execution_count": 28,
      "outputs": [
        {
          "output_type": "execute_result",
          "data": {
            "text/plain": [
              "(6320, 150, 150, 3)"
            ]
          },
          "metadata": {},
          "execution_count": 28
        }
      ]
    },
    {
      "cell_type": "code",
      "source": [
        "X_test.shape"
      ],
      "metadata": {
        "colab": {
          "base_uri": "https://localhost:8080/"
        },
        "id": "wArVfwt84Ryf",
        "outputId": "dadd56cb-fe6c-4119-f7ab-2122cd7be1d9"
      },
      "execution_count": 29,
      "outputs": [
        {
          "output_type": "execute_result",
          "data": {
            "text/plain": [
              "(703, 150, 150, 3)"
            ]
          },
          "metadata": {},
          "execution_count": 29
        }
      ]
    },
    {
      "cell_type": "code",
      "source": [
        "y_train_new = []\n",
        "for i in y_train:\n",
        "    y_train_new.append(labels.index(i))\n",
        "y_train=y_train_new\n",
        "y_train = tf.keras.utils.to_categorical(y_train)\n",
        "\n",
        "y_test_new = []\n",
        "for i in y_test:\n",
        "    y_test_new.append(labels.index(i))\n",
        "y_test=y_test_new\n",
        "y_test = tf.keras.utils.to_categorical(y_test)"
      ],
      "metadata": {
        "id": "mDCd5-3xOTAR"
      },
      "execution_count": 30,
      "outputs": []
    },
    {
      "cell_type": "code",
      "source": [
        "X_train.shape"
      ],
      "metadata": {
        "colab": {
          "base_uri": "https://localhost:8080/"
        },
        "id": "PI6wgfcWIQ51",
        "outputId": "ef2859d8-9c31-49ff-a15f-6a9235047ae4"
      },
      "execution_count": 31,
      "outputs": [
        {
          "output_type": "execute_result",
          "data": {
            "text/plain": [
              "(6320, 150, 150, 3)"
            ]
          },
          "metadata": {},
          "execution_count": 31
        }
      ]
    },
    {
      "cell_type": "code",
      "source": [
        "y_test.shape"
      ],
      "metadata": {
        "colab": {
          "base_uri": "https://localhost:8080/"
        },
        "id": "PFZEPMm5oh23",
        "outputId": "ba79742b-4d10-4dfc-9809-d1e9f36bf3d6"
      },
      "execution_count": 32,
      "outputs": [
        {
          "output_type": "execute_result",
          "data": {
            "text/plain": [
              "(703, 4)"
            ]
          },
          "metadata": {},
          "execution_count": 32
        }
      ]
    },
    {
      "cell_type": "code",
      "source": [
        "IMG_SIZE = 150\n",
        "\n",
        "resize_and_rescale = tf.keras.Sequential([\n",
        "  layers.Resizing(IMG_SIZE, IMG_SIZE),\n",
        "  layers.Rescaling(1./255)\n",
        "])"
      ],
      "metadata": {
        "id": "x5KVCRcKnDgM"
      },
      "execution_count": 33,
      "outputs": []
    },
    {
      "cell_type": "code",
      "source": [
        "data_augmentation = keras.Sequential(\n",
        "  [\n",
        "    tf.keras.layers.RandomFlip(\"horizontal\", input_shape=(150, 150, 3)),\n",
        "    tf.keras.layers.RandomRotation(0.2, fill_mode='reflect'),\n",
        "    tf.keras.layers.RandomContrast(0.2),\n",
        "  ]\n",
        ")"
      ],
      "metadata": {
        "id": "ZThSEia1k5Ju",
        "colab": {
          "base_uri": "https://localhost:8080/"
        },
        "outputId": "19885af5-65ce-4259-a443-cd205e378432"
      },
      "execution_count": 34,
      "outputs": [
        {
          "output_type": "stream",
          "name": "stderr",
          "text": [
            "WARNING:tensorflow:Using a while_loop for converting RngReadAndSkip\n",
            "WARNING:tensorflow:Using a while_loop for converting Bitcast\n",
            "WARNING:tensorflow:Using a while_loop for converting Bitcast\n",
            "WARNING:tensorflow:Using a while_loop for converting StatelessRandomUniformFullIntV2\n",
            "WARNING:tensorflow:Using a while_loop for converting StatelessRandomGetKeyCounter\n",
            "WARNING:tensorflow:Using a while_loop for converting StatelessRandomUniformV2\n",
            "WARNING:tensorflow:Using a while_loop for converting AdjustContrastv2\n"
          ]
        }
      ]
    },
    {
      "cell_type": "code",
      "source": [
        "#original\n",
        "num_classes = 4\n",
        "\n",
        "model = Sequential([\n",
        "    resize_and_rescale,\n",
        "    data_augmentation,\n",
        "    Conv2D(64, 3, padding='same', activation= 'relu', input_shape=(150,150,3)),\n",
        "    MaxPooling2D(pool_size=(3,3), strides=(2,2)),\n",
        "    BatchNormalization(),\n",
        "    Conv2D(64, 5, padding='same', activation= 'relu'),\n",
        "    MaxPooling2D(pool_size=(3,3), strides=(2,2)),\n",
        "    BatchNormalization(),\n",
        "    Conv2D(256, 5, padding='same', activation= 'relu'),\n",
        "    MaxPooling2D(pool_size=(3,3), strides=(2,2)),\n",
        "    BatchNormalization(),\n",
        "    Conv2D(512, 5, padding='same', activation= 'relu'),\n",
        "    MaxPooling2D(pool_size=(3,3), strides=(2,2)),\n",
        "    BatchNormalization(),\n",
        "    Flatten(),\n",
        "    Dropout(0.3),\n",
        "    Dense(256, activation= 'relu'),\n",
        "    Dropout(0.3),\n",
        "    Dense(64, activation= 'relu'),\n",
        "    Dropout(0.3),\n",
        "    Dense(num_classes, activation= 'softmax')\n",
        "])\n",
        "\n",
        "model.build(input_shape=(None,150,150,3))\n",
        "\n",
        "model.summary()"
      ],
      "metadata": {
        "colab": {
          "base_uri": "https://localhost:8080/"
        },
        "id": "dTO_5dVKMt5m",
        "outputId": "81a5773e-e336-4177-9b01-fe51c4c75aca"
      },
      "execution_count": null,
      "outputs": [
        {
          "output_type": "stream",
          "name": "stderr",
          "text": [
            "WARNING:tensorflow:Model was constructed with shape (None, 150, 150, 3) for input KerasTensor(type_spec=TensorSpec(shape=(None, 150, 150, 3), dtype=tf.float32, name='random_flip_4_input'), name='random_flip_4_input', description=\"created by layer 'random_flip_4_input'\"), but it was called on an input with incompatible shape (None, 224, 224, 3).\n"
          ]
        },
        {
          "output_type": "stream",
          "name": "stdout",
          "text": [
            "Model: \"sequential_14\"\n",
            "_________________________________________________________________\n",
            " Layer (type)                Output Shape              Param #   \n",
            "=================================================================\n",
            " sequential_10 (Sequential)  (None, 224, 224, 3)       0         \n",
            "                                                                 \n",
            " sequential_13 (Sequential)  (None, 150, 150, 3)       0         \n",
            "                                                                 \n",
            " conv2d (Conv2D)             (None, 224, 224, 64)      1792      \n",
            "                                                                 \n",
            " max_pooling2d (MaxPooling2D  (None, 111, 111, 64)     0         \n",
            " )                                                               \n",
            "                                                                 \n",
            " batch_normalization (BatchN  (None, 111, 111, 64)     256       \n",
            " ormalization)                                                   \n",
            "                                                                 \n",
            " conv2d_1 (Conv2D)           (None, 111, 111, 64)      102464    \n",
            "                                                                 \n",
            " max_pooling2d_1 (MaxPooling  (None, 55, 55, 64)       0         \n",
            " 2D)                                                             \n",
            "                                                                 \n",
            " batch_normalization_1 (Batc  (None, 55, 55, 64)       256       \n",
            " hNormalization)                                                 \n",
            "                                                                 \n",
            " conv2d_2 (Conv2D)           (None, 55, 55, 256)       409856    \n",
            "                                                                 \n",
            " max_pooling2d_2 (MaxPooling  (None, 27, 27, 256)      0         \n",
            " 2D)                                                             \n",
            "                                                                 \n",
            " batch_normalization_2 (Batc  (None, 27, 27, 256)      1024      \n",
            " hNormalization)                                                 \n",
            "                                                                 \n",
            " conv2d_3 (Conv2D)           (None, 27, 27, 512)       3277312   \n",
            "                                                                 \n",
            " max_pooling2d_3 (MaxPooling  (None, 13, 13, 512)      0         \n",
            " 2D)                                                             \n",
            "                                                                 \n",
            " batch_normalization_3 (Batc  (None, 13, 13, 512)      2048      \n",
            " hNormalization)                                                 \n",
            "                                                                 \n",
            " flatten (Flatten)           (None, 86528)             0         \n",
            "                                                                 \n",
            " dropout (Dropout)           (None, 86528)             0         \n",
            "                                                                 \n",
            " dense_12 (Dense)            (None, 256)               22151424  \n",
            "                                                                 \n",
            " dropout_1 (Dropout)         (None, 256)               0         \n",
            "                                                                 \n",
            " dense_13 (Dense)            (None, 64)                16448     \n",
            "                                                                 \n",
            " dropout_2 (Dropout)         (None, 64)                0         \n",
            "                                                                 \n",
            " dense_14 (Dense)            (None, 4)                 260       \n",
            "                                                                 \n",
            "=================================================================\n",
            "Total params: 25,963,140\n",
            "Trainable params: 25,961,348\n",
            "Non-trainable params: 1,792\n",
            "_________________________________________________________________\n"
          ]
        }
      ]
    },
    {
      "cell_type": "code",
      "source": [
        "opt = tf.keras.optimizers.Adam(learning_rate=0.0001)\n",
        "model.compile(optimizer=opt,\n",
        "              loss=tf.keras.losses.CategoricalCrossentropy(from_logits=False),\n",
        "              metrics=['accuracy'])\n",
        "              \n",
        "history = model.fit(X_train,\n",
        "                     y_train, \n",
        "                     validation_data=(X_test, y_test),\n",
        "                     epochs=40,\n",
        "                     batch_size= 32)"
      ],
      "metadata": {
        "id": "EMYXzW3cM9bA"
      },
      "execution_count": null,
      "outputs": []
    },
    {
      "cell_type": "code",
      "source": [
        "os.chdir('/content/drive/MyDrive/Brain_tumor_classification/graph/CNN')\n",
        "import pickle\n",
        "import time\n",
        "\n",
        "f = open('history.pckl', 'rb')\n",
        "history = pickle.load(f)\n",
        "f.close()"
      ],
      "metadata": {
        "id": "uRreVW7qHQcl"
      },
      "execution_count": 36,
      "outputs": []
    },
    {
      "cell_type": "code",
      "source": [
        "#model 1\n",
        "plt.plot(history[\"loss\"],c = \"red\")\n",
        "plt.plot(history[\"val_loss\"],c = \"green\")\n",
        "plt.title(\"Loss\")\n",
        "plt.ylabel(\"Loss\")\n",
        "plt.xlabel(\"Epochs\")\n",
        "plt.legend([\"train\", \"test\"])\n",
        "plt.show()"
      ],
      "metadata": {
        "id": "cMz6KjF4xJF4",
        "colab": {
          "base_uri": "https://localhost:8080/",
          "height": 295
        },
        "outputId": "b451acc6-bcbf-47e5-d6b6-99098f07b350"
      },
      "execution_count": 37,
      "outputs": [
        {
          "output_type": "display_data",
          "data": {
            "text/plain": [
              "<Figure size 432x288 with 1 Axes>"
            ],
            "image/png": "[encoded data removed]"
          },
          "metadata": {
            "needs_background": "light"
          }
        }
      ]
    },
    {
      "cell_type": "code",
      "source": [
        "#model1\n",
        "plt.plot(history[\"accuracy\"],c = \"red\")\n",
        "plt.plot(history[\"val_accuracy\"],c = \"green\")\n",
        "plt.title(\"Accuracy\")\n",
        "plt.ylabel(\"Accuracy\")\n",
        "plt.xlabel(\"Epochs\")\n",
        "plt.legend([\"train\", \"test\"])\n",
        "plt.show()"
      ],
      "metadata": {
        "id": "z-croGEDyszT",
        "colab": {
          "base_uri": "https://localhost:8080/",
          "height": 295
        },
        "outputId": "49106989-1a3a-4a49-e3e2-a2b68aaa0388"
      },
      "execution_count": 38,
      "outputs": [
        {
          "output_type": "display_data",
          "data": {
            "text/plain": [
              "<Figure size 432x288 with 1 Axes>"
            ],
            "image/png": "[encoded data removed]"
          },
          "metadata": {
            "needs_background": "light"
          }
        }
      ]
    },
    {
      "cell_type": "code",
      "source": [
        "# Getting model predictions model2\n",
        "\n",
        "test_predictions = model.predict(X_test)\n",
        "preds = np.argmax(test_predictions, axis=1)\n",
        "actual_label = np.argmax(y_test, axis=1)\n",
        "print(classification_report(actual_label, preds))"
      ],
      "metadata": {
        "id": "SSHT3M4Ny0MF"
      },
      "execution_count": null,
      "outputs": []
    },
    {
      "cell_type": "code",
      "source": [
        "#model2\n",
        "\n",
        "cnf = confusion_matrix(actual_label, preds)\n",
        "plt.figure(figsize=(8,6), dpi=70, facecolor='w', edgecolor='k')\n",
        "ax = sns.heatmap(cnf, cmap='Blues', annot=True, fmt = 'd', xticklabels=labels, yticklabels=labels)\n",
        "plt.title('Brain Tumor MRI Classification')\n",
        "plt.xlabel('Prediction')\n",
        "plt.ylabel('Ground Truth')\n",
        "plt.show(ax)"
      ],
      "metadata": {
        "id": "Y05_qEwGy6H4"
      },
      "execution_count": null,
      "outputs": []
    },
    {
      "cell_type": "code",
      "source": [
        "!mkdir saved"
      ],
      "metadata": {
        "id": "G3r_bfWU4gG6"
      },
      "execution_count": null,
      "outputs": []
    },
    {
      "cell_type": "code",
      "source": [
        "!pwd"
      ],
      "metadata": {
        "colab": {
          "base_uri": "https://localhost:8080/"
        },
        "id": "mgWhqCfe4vt_",
        "outputId": "42160def-4c47-4c78-e454-ccee1fd078ad"
      },
      "execution_count": null,
      "outputs": [
        {
          "output_type": "stream",
          "name": "stdout",
          "text": [
            "/content/drive/MyDrive/Brain_tumor_classification\n"
          ]
        }
      ]
    },
    {
      "cell_type": "code",
      "source": [
        "# model = tf.keras.models.load_model('content/drive/MyDrive/Brain/saved_model/CCNN.h5')\n",
        "os.chdir('/content/drive/MyDrive/Brain_tumor_classification/saved/')\n",
        "!ls"
      ],
      "metadata": {
        "id": "42TkYLBk4ceF"
      },
      "execution_count": null,
      "outputs": []
    },
    {
      "cell_type": "code",
      "source": [
        "# from keras.models import save\n",
        "model.save(\"CNN.h5\", save_format=\"h5\")\n"
      ],
      "metadata": {
        "id": "Y-zHcJuk4Gol"
      },
      "execution_count": null,
      "outputs": []
    },
    {
      "cell_type": "code",
      "source": [
        "os.chdir('/content/drive/MyDrive/Brain_tumor_classification/') "
      ],
      "metadata": {
        "id": "FLFsfQRciz__"
      },
      "execution_count": null,
      "outputs": []
    },
    {
      "cell_type": "code",
      "source": [
        "!mkdir graph"
      ],
      "metadata": {
        "id": "QQ9kx3HFi_oA"
      },
      "execution_count": null,
      "outputs": []
    },
    {
      "cell_type": "code",
      "source": [
        "os.chdir('/content/drive/MyDrive/Brain_tumor_classification/graph')"
      ],
      "metadata": {
        "id": "3_Xrxym4jFC-"
      },
      "execution_count": null,
      "outputs": []
    },
    {
      "cell_type": "code",
      "source": [
        "!mkdir CNN"
      ],
      "metadata": {
        "id": "eL_bEa87jOOh"
      },
      "execution_count": null,
      "outputs": []
    },
    {
      "cell_type": "code",
      "source": [
        "os.chdir('/content/drive/MyDrive/Brain_tumor_classification/graph/CNN')\n",
        "import pickle\n",
        "import time"
      ],
      "metadata": {
        "id": "JG4wiIiLjXOA"
      },
      "execution_count": null,
      "outputs": []
    },
    {
      "cell_type": "code",
      "source": [
        "!ls"
      ],
      "metadata": {
        "colab": {
          "base_uri": "https://localhost:8080/"
        },
        "id": "dO_jiCnuvym_",
        "outputId": "0bc8f04d-ac2f-4aed-eb7d-4aedbee5a5e7"
      },
      "execution_count": null,
      "outputs": [
        {
          "output_type": "stream",
          "name": "stdout",
          "text": [
            "history.pckl\n"
          ]
        }
      ]
    },
    {
      "cell_type": "code",
      "source": [
        "\n",
        "import pickle\n",
        "\n",
        "\n",
        "f = open('history.pckl', 'wb')\n",
        "history = pickle.dump(history, f)\n",
        "f.close()"
      ],
      "metadata": {
        "id": "N-NAh3l1irdF"
      },
      "execution_count": null,
      "outputs": []
    },
    {
      "cell_type": "code",
      "source": [],
      "metadata": {
        "id": "FvbqOOZqmNeB"
      },
      "execution_count": null,
      "outputs": []
    },
    {
      "cell_type": "code",
      "source": [
        "# model = tf.keras.models.load_model('content/drive/MyDrive/Brain/saved_model/CCNN.h5')\n",
        "os.chdir('/content/drive/MyDrive/Brain/saved_model/')\n",
        "!ls"
      ],
      "metadata": {
        "colab": {
          "base_uri": "https://localhost:8080/"
        },
        "id": "1Q_lRY0dfShy",
        "outputId": "3784a64e-a092-464c-bfa2-e67cbbff331f"
      },
      "execution_count": null,
      "outputs": [
        {
          "output_type": "stream",
          "name": "stdout",
          "text": [
            "CCNN  CNN  CNN2  Final_CNN  mobilenet\n"
          ]
        }
      ]
    },
    {
      "cell_type": "code",
      "source": [
        "from keras.models import load_model\n",
        "model = load_model('CCNN')\n",
        "\n",
        "#for model's summary and details.\n",
        "model.summary()"
      ],
      "metadata": {
        "colab": {
          "base_uri": "https://localhost:8080/"
        },
        "id": "ASle1SB3jMvY",
        "outputId": "11cfe51e-4891-48ef-b818-9d95933f3cc4"
      },
      "execution_count": null,
      "outputs": [
        {
          "output_type": "stream",
          "name": "stdout",
          "text": [
            "Model: \"sequential_2\"\n",
            "_________________________________________________________________\n",
            " Layer (type)                Output Shape              Param #   \n",
            "=================================================================\n",
            " sequential (Sequential)     (None, 150, 150, 3)       0         \n",
            "                                                                 \n",
            " sequential_1 (Sequential)   (None, 150, 150, 3)       0         \n",
            "                                                                 \n",
            " conv2d (Conv2D)             (None, 150, 150, 64)      1792      \n",
            "                                                                 \n",
            " max_pooling2d (MaxPooling2D  (None, 50, 50, 64)       0         \n",
            " )                                                               \n",
            "                                                                 \n",
            " batch_normalization (BatchN  (None, 50, 50, 64)       256       \n",
            " ormalization)                                                   \n",
            "                                                                 \n",
            " conv2d_1 (Conv2D)           (None, 50, 50, 64)        102464    \n",
            "                                                                 \n",
            " max_pooling2d_1 (MaxPooling  (None, 16, 16, 64)       0         \n",
            " 2D)                                                             \n",
            "                                                                 \n",
            " batch_normalization_1 (Batc  (None, 16, 16, 64)       256       \n",
            " hNormalization)                                                 \n",
            "                                                                 \n",
            " conv2d_2 (Conv2D)           (None, 16, 16, 256)       409856    \n",
            "                                                                 \n",
            " max_pooling2d_2 (MaxPooling  (None, 5, 5, 256)        0         \n",
            " 2D)                                                             \n",
            "                                                                 \n",
            " batch_normalization_2 (Batc  (None, 5, 5, 256)        1024      \n",
            " hNormalization)                                                 \n",
            "                                                                 \n",
            " conv2d_3 (Conv2D)           (None, 5, 5, 512)         3277312   \n",
            "                                                                 \n",
            " max_pooling2d_3 (MaxPooling  (None, 1, 1, 512)        0         \n",
            " 2D)                                                             \n",
            "                                                                 \n",
            " batch_normalization_3 (Batc  (None, 1, 1, 512)        2048      \n",
            " hNormalization)                                                 \n",
            "                                                                 \n",
            " flatten (Flatten)           (None, 512)               0         \n",
            "                                                                 \n",
            " dropout (Dropout)           (None, 512)               0         \n",
            "                                                                 \n",
            " dense (Dense)               (None, 256)               131328    \n",
            "                                                                 \n",
            " dropout_1 (Dropout)         (None, 256)               0         \n",
            "                                                                 \n",
            " dense_1 (Dense)             (None, 64)                16448     \n",
            "                                                                 \n",
            " dropout_2 (Dropout)         (None, 64)                0         \n",
            "                                                                 \n",
            " dense_2 (Dense)             (None, 4)                 260       \n",
            "                                                                 \n",
            "=================================================================\n",
            "Total params: 3,943,044\n",
            "Trainable params: 3,941,252\n",
            "Non-trainable params: 1,792\n",
            "_________________________________________________________________\n"
          ]
        }
      ]
    },
    {
      "cell_type": "code",
      "source": [
        "os.chdir('/content/drive/MyDrive/Brain_tumor_classification/graph/CCNN')\n",
        "import pickle\n",
        "\n",
        "f = open('history.pckl', 'rb')\n",
        "history = pickle.load(f)\n",
        "f.close()"
      ],
      "metadata": {
        "id": "ELqg2_FHyC2a"
      },
      "execution_count": null,
      "outputs": []
    },
    {
      "cell_type": "code",
      "source": [
        "#model 1\n",
        "plt.plot(history[\"loss\"],c = \"red\")\n",
        "plt.plot(history[\"val_loss\"],c = \"green\")\n",
        "plt.title(\"Loss\")\n",
        "plt.ylabel(\"Loss\")\n",
        "plt.xlabel(\"Epochs\")\n",
        "plt.legend([\"train\", \"test\"])\n",
        "plt.show()"
      ],
      "metadata": {
        "id": "IWKM33RENR3t"
      },
      "execution_count": null,
      "outputs": []
    },
    {
      "cell_type": "code",
      "source": [
        "#model1\n",
        "plt.plot(history[\"accuracy\"],c = \"red\")\n",
        "plt.plot(history[\"val_accuracy\"],c = \"green\")\n",
        "plt.title(\"Accuracy\")\n",
        "plt.ylabel(\"Accuracy\")\n",
        "plt.xlabel(\"Epochs\")\n",
        "plt.legend([\"train\", \"test\"])\n",
        "plt.show()"
      ],
      "metadata": {
        "id": "Unc43i1YNVzU"
      },
      "execution_count": null,
      "outputs": []
    },
    {
      "cell_type": "code",
      "source": [
        "# Getting model predictions model2\n",
        "\n",
        "test_predictions = model.predict(X_test)\n",
        "preds = np.argmax(test_predictions, axis=1)\n",
        "actual_label = np.argmax(y_test, axis=1)\n",
        "print(classification_report(actual_label, preds))"
      ],
      "metadata": {
        "colab": {
          "base_uri": "https://localhost:8080/"
        },
        "id": "KrrhVvZdNcAu",
        "outputId": "f809dcb1-f951-4f22-cde6-4f8a2c608e86"
      },
      "execution_count": null,
      "outputs": [
        {
          "output_type": "stream",
          "name": "stdout",
          "text": [
            "22/22 [==============================] - 1s 14ms/step\n",
            "              precision    recall  f1-score   support\n",
            "\n",
            "           0       0.97      0.98      0.97       159\n",
            "           1       0.98      0.91      0.94       158\n",
            "           2       0.98      0.99      0.99       193\n",
            "           3       0.96      0.99      0.98       193\n",
            "\n",
            "    accuracy                           0.97       703\n",
            "   macro avg       0.97      0.97      0.97       703\n",
            "weighted avg       0.97      0.97      0.97       703\n",
            "\n"
          ]
        }
      ]
    },
    {
      "cell_type": "code",
      "source": [
        "#model2\n",
        "\n",
        "cnf = confusion_matrix(actual_label, preds)\n",
        "plt.figure(figsize=(8,6), dpi=70, facecolor='w', edgecolor='k')\n",
        "ax = sns.heatmap(cnf, cmap='Blues', annot=True, fmt = 'd', xticklabels=labels, yticklabels=labels)\n",
        "plt.title('Brain Tumor MRI Classification')\n",
        "plt.xlabel('Prediction')\n",
        "plt.ylabel('Ground Truth')\n",
        "plt.show(ax)"
      ],
      "metadata": {
        "id": "MmegAM6HNhWQ"
      },
      "execution_count": null,
      "outputs": []
    },
    {
      "cell_type": "code",
      "source": [
        "# model2.save('saved_model/CCNN', save_format='h5')"
      ],
      "metadata": {
        "id": "-nqK3nGR_5HR"
      },
      "execution_count": null,
      "outputs": []
    },
    {
      "cell_type": "markdown",
      "source": [
        "#VGG-16"
      ],
      "metadata": {
        "id": "YQ4OiIP-zS6i"
      }
    },
    {
      "cell_type": "code",
      "source": [
        "IMG_SIZE = 224\n",
        "\n",
        "resize_and_rescale = tf.keras.Sequential([\n",
        "  layers.Resizing(IMG_SIZE, IMG_SIZE),\n",
        "  layers.Rescaling(1./255)\n",
        "])"
      ],
      "metadata": {
        "id": "Erq2_kOCzYoV"
      },
      "execution_count": null,
      "outputs": []
    },
    {
      "cell_type": "code",
      "source": [
        "data_augmentation = keras.Sequential(\n",
        "  [\n",
        "    tf.keras.layers.RandomFlip(\"horizontal\", input_shape=(IMG_SIZE, IMG_SIZE, 3)),\n",
        "    # tf.keras.layers.RandomRotation(0.2, fill_mode='reflect'),\n",
        "  ]\n",
        ")"
      ],
      "metadata": {
        "id": "Q_qkvgRpv-bF"
      },
      "execution_count": null,
      "outputs": []
    },
    {
      "cell_type": "code",
      "source": [
        "base_model = keras.applications.VGG16(input_shape=(IMG_SIZE,IMG_SIZE,3), include_top=False, weights='imagenet')\n",
        "# Set all layers to non-trainable\n",
        "for layer in base_model.layers:\n",
        "    layer.trainable = False\n",
        "\n",
        "model2 = Sequential()\n",
        "model2.add(resize_and_rescale)\n",
        "model2.add(data_augmentation)\n",
        "model2.add(keras.Input(shape=(IMG_SIZE,IMG_SIZE,3)))\n",
        "model2.add(base_model)\n",
        "model2.add(Flatten())\n",
        "model2.add(Dense(512, activation='relu'))\n",
        "model2.add(Dropout(0.2))\n",
        "model2.add(Dense(128, activation='relu'))\n",
        "model2.add(Dropout(0.2))\n",
        "model2.add(Dense(4, activation='softmax'))"
      ],
      "metadata": {
        "id": "xUa-RJEo0lLV",
        "colab": {
          "base_uri": "https://localhost:8080/"
        },
        "outputId": "c3a2c32f-d350-4800-d312-fcc8ad1f836f"
      },
      "execution_count": null,
      "outputs": [
        {
          "output_type": "stream",
          "name": "stdout",
          "text": [
            "Downloading data from https://storage.googleapis.com/tensorflow/keras-applications/vgg16/vgg16_weights_tf_dim_ordering_tf_kernels_notop.h5\n",
            "58889256/58889256 [==============================] - 3s 0us/step\n"
          ]
        }
      ]
    },
    {
      "cell_type": "code",
      "source": [
        "model2.build(input_shape=(None,IMG_SIZE,IMG_SIZE,3))\n",
        "\n",
        "model2.summary()"
      ],
      "metadata": {
        "colab": {
          "base_uri": "https://localhost:8080/"
        },
        "id": "-NzP-f990z8i",
        "outputId": "77210960-ec96-4b93-b256-d2f6c03a7e6d"
      },
      "execution_count": null,
      "outputs": [
        {
          "output_type": "stream",
          "name": "stderr",
          "text": [
            "WARNING:tensorflow:Using a while_loop for converting RngReadAndSkip\n",
            "WARNING:tensorflow:Using a while_loop for converting Bitcast\n",
            "WARNING:tensorflow:Using a while_loop for converting Bitcast\n",
            "WARNING:tensorflow:Using a while_loop for converting StatelessRandomUniformFullIntV2\n",
            "WARNING:tensorflow:Using a while_loop for converting StatelessRandomGetKeyCounter\n",
            "WARNING:tensorflow:Using a while_loop for converting StatelessRandomUniformV2\n",
            "WARNING:tensorflow:Using a while_loop for converting AdjustContrastv2\n"
          ]
        },
        {
          "output_type": "stream",
          "name": "stdout",
          "text": [
            "Model: \"sequential_3\"\n",
            "_________________________________________________________________\n",
            " Layer (type)                Output Shape              Param #   \n",
            "=================================================================\n",
            " sequential_1 (Sequential)   (None, 224, 224, 3)       0         \n",
            "                                                                 \n",
            " sequential_2 (Sequential)   (None, 224, 224, 3)       0         \n",
            "                                                                 \n",
            " input_2 (InputLayer)        multiple                  0         \n",
            "                                                                 \n",
            " vgg16 (Functional)          (None, 7, 7, 512)         14714688  \n",
            "                                                                 \n",
            " flatten (Flatten)           (None, 25088)             0         \n",
            "                                                                 \n",
            " dense (Dense)               (None, 512)               12845568  \n",
            "                                                                 \n",
            " dropout (Dropout)           (None, 512)               0         \n",
            "                                                                 \n",
            " dense_1 (Dense)             (None, 128)               65664     \n",
            "                                                                 \n",
            " dropout_1 (Dropout)         (None, 128)               0         \n",
            "                                                                 \n",
            " dense_2 (Dense)             (None, 4)                 516       \n",
            "                                                                 \n",
            "=================================================================\n",
            "Total params: 27,626,436\n",
            "Trainable params: 12,911,748\n",
            "Non-trainable params: 14,714,688\n",
            "_________________________________________________________________\n"
          ]
        }
      ]
    },
    {
      "cell_type": "code",
      "source": [
        "opt = tf.keras.optimizers.Adam(learning_rate=0.001)\n",
        "model2.compile(optimizer=opt,\n",
        "              loss=tf.keras.losses.CategoricalCrossentropy(from_logits=False),\n",
        "              metrics=['accuracy'])\n",
        "              \n",
        "history2 = model2.fit(X_train,\n",
        "                     y_train, \n",
        "                     validation_data=(X_test, y_test),\n",
        "                     epochs=40,\n",
        "                     batch_size= 32)"
      ],
      "metadata": {
        "id": "DAl_1Oi61Mfs",
        "colab": {
          "base_uri": "https://localhost:8080/"
        },
        "outputId": "78240859-decb-4165-978a-7da0717b1080"
      },
      "execution_count": null,
      "outputs": [
        {
          "output_type": "stream",
          "name": "stdout",
          "text": [
            "Epoch 1/40\n"
          ]
        },
        {
          "output_type": "stream",
          "name": "stderr",
          "text": [
            "WARNING:tensorflow:Using a while_loop for converting RngReadAndSkip\n",
            "WARNING:tensorflow:Using a while_loop for converting Bitcast\n",
            "WARNING:tensorflow:Using a while_loop for converting Bitcast\n",
            "WARNING:tensorflow:Using a while_loop for converting StatelessRandomUniformFullIntV2\n",
            "WARNING:tensorflow:Using a while_loop for converting StatelessRandomGetKeyCounter\n",
            "WARNING:tensorflow:Using a while_loop for converting StatelessRandomUniformV2\n",
            "WARNING:tensorflow:Using a while_loop for converting AdjustContrastv2\n",
            "WARNING:tensorflow:Using a while_loop for converting RngReadAndSkip\n",
            "WARNING:tensorflow:Using a while_loop for converting Bitcast\n",
            "WARNING:tensorflow:Using a while_loop for converting Bitcast\n",
            "WARNING:tensorflow:Using a while_loop for converting StatelessRandomUniformFullIntV2\n",
            "WARNING:tensorflow:Using a while_loop for converting StatelessRandomGetKeyCounter\n",
            "WARNING:tensorflow:Using a while_loop for converting StatelessRandomUniformV2\n",
            "WARNING:tensorflow:Using a while_loop for converting AdjustContrastv2\n",
            "WARNING:tensorflow:Using a while_loop for converting RngReadAndSkip\n",
            "WARNING:tensorflow:Using a while_loop for converting Bitcast\n",
            "WARNING:tensorflow:Using a while_loop for converting Bitcast\n",
            "WARNING:tensorflow:Using a while_loop for converting StatelessRandomUniformFullIntV2\n",
            "WARNING:tensorflow:Using a while_loop for converting StatelessRandomGetKeyCounter\n",
            "WARNING:tensorflow:Using a while_loop for converting StatelessRandomUniformV2\n",
            "WARNING:tensorflow:Using a while_loop for converting AdjustContrastv2\n"
          ]
        },
        {
          "output_type": "stream",
          "name": "stdout",
          "text": [
            "198/198 [==============================] - 78s 333ms/step - loss: 0.8620 - accuracy: 0.7160 - val_loss: 0.3719 - val_accuracy: 0.8336\n",
            "Epoch 2/40\n",
            "198/198 [==============================] - 59s 296ms/step - loss: 0.4644 - accuracy: 0.8217 - val_loss: 0.3154 - val_accuracy: 0.9047\n",
            "Epoch 3/40\n",
            "198/198 [==============================] - 57s 289ms/step - loss: 0.4047 - accuracy: 0.8487 - val_loss: 0.2555 - val_accuracy: 0.9047\n",
            "Epoch 4/40\n",
            "198/198 [==============================] - 57s 290ms/step - loss: 0.3800 - accuracy: 0.8597 - val_loss: 0.2311 - val_accuracy: 0.9218\n",
            "Epoch 5/40\n",
            "198/198 [==============================] - 58s 292ms/step - loss: 0.3415 - accuracy: 0.8710 - val_loss: 0.2382 - val_accuracy: 0.9118\n",
            "Epoch 6/40\n",
            "198/198 [==============================] - 57s 289ms/step - loss: 0.3194 - accuracy: 0.8790 - val_loss: 0.2285 - val_accuracy: 0.9218\n",
            "Epoch 7/40\n",
            "198/198 [==============================] - 57s 290ms/step - loss: 0.3027 - accuracy: 0.8826 - val_loss: 0.2597 - val_accuracy: 0.9061\n",
            "Epoch 8/40\n",
            "198/198 [==============================] - 57s 290ms/step - loss: 0.2850 - accuracy: 0.8948 - val_loss: 0.2065 - val_accuracy: 0.9289\n",
            "Epoch 9/40\n",
            "198/198 [==============================] - 57s 288ms/step - loss: 0.2805 - accuracy: 0.8903 - val_loss: 0.2123 - val_accuracy: 0.9246\n",
            "Epoch 10/40\n",
            "198/198 [==============================] - 59s 298ms/step - loss: 0.2540 - accuracy: 0.9009 - val_loss: 0.1773 - val_accuracy: 0.9374\n",
            "Epoch 11/40\n",
            "198/198 [==============================] - 57s 289ms/step - loss: 0.2495 - accuracy: 0.9041 - val_loss: 0.2015 - val_accuracy: 0.9246\n",
            "Epoch 12/40\n",
            "198/198 [==============================] - 58s 291ms/step - loss: 0.2544 - accuracy: 0.9041 - val_loss: 0.1967 - val_accuracy: 0.9289\n",
            "Epoch 13/40\n",
            "198/198 [==============================] - 60s 304ms/step - loss: 0.2514 - accuracy: 0.9044 - val_loss: 0.1894 - val_accuracy: 0.9346\n",
            "Epoch 14/40\n",
            "198/198 [==============================] - 61s 307ms/step - loss: 0.2472 - accuracy: 0.9054 - val_loss: 0.1777 - val_accuracy: 0.9303\n",
            "Epoch 15/40\n",
            "198/198 [==============================] - 57s 289ms/step - loss: 0.2457 - accuracy: 0.9085 - val_loss: 0.1614 - val_accuracy: 0.9403\n",
            "Epoch 16/40\n",
            "198/198 [==============================] - 57s 290ms/step - loss: 0.2395 - accuracy: 0.9104 - val_loss: 0.1905 - val_accuracy: 0.9275\n",
            "Epoch 17/40\n",
            "198/198 [==============================] - 57s 289ms/step - loss: 0.2077 - accuracy: 0.9218 - val_loss: 0.1846 - val_accuracy: 0.9275\n",
            "Epoch 18/40\n",
            "198/198 [==============================] - 57s 289ms/step - loss: 0.2243 - accuracy: 0.9142 - val_loss: 0.1886 - val_accuracy: 0.9260\n",
            "Epoch 19/40\n",
            "198/198 [==============================] - 59s 297ms/step - loss: 0.2133 - accuracy: 0.9199 - val_loss: 0.1913 - val_accuracy: 0.9374\n",
            "Epoch 20/40\n",
            "198/198 [==============================] - 57s 288ms/step - loss: 0.2120 - accuracy: 0.9220 - val_loss: 0.2035 - val_accuracy: 0.9218\n",
            "Epoch 21/40\n",
            "198/198 [==============================] - 57s 288ms/step - loss: 0.2237 - accuracy: 0.9191 - val_loss: 0.1694 - val_accuracy: 0.9388\n",
            "Epoch 22/40\n",
            "198/198 [==============================] - 57s 288ms/step - loss: 0.1983 - accuracy: 0.9245 - val_loss: 0.1465 - val_accuracy: 0.9431\n",
            "Epoch 23/40\n",
            "198/198 [==============================] - 57s 289ms/step - loss: 0.1911 - accuracy: 0.9253 - val_loss: 0.1614 - val_accuracy: 0.9388\n",
            "Epoch 24/40\n",
            "198/198 [==============================] - 59s 297ms/step - loss: 0.1926 - accuracy: 0.9272 - val_loss: 0.2036 - val_accuracy: 0.9260\n",
            "Epoch 25/40\n",
            "198/198 [==============================] - 57s 288ms/step - loss: 0.1932 - accuracy: 0.9275 - val_loss: 0.1816 - val_accuracy: 0.9317\n",
            "Epoch 26/40\n",
            "198/198 [==============================] - 57s 288ms/step - loss: 0.1826 - accuracy: 0.9293 - val_loss: 0.1682 - val_accuracy: 0.9403\n",
            "Epoch 27/40\n",
            "198/198 [==============================] - 57s 288ms/step - loss: 0.1863 - accuracy: 0.9296 - val_loss: 0.1924 - val_accuracy: 0.9275\n",
            "Epoch 28/40\n",
            "198/198 [==============================] - 57s 288ms/step - loss: 0.2022 - accuracy: 0.9228 - val_loss: 0.1516 - val_accuracy: 0.9445\n",
            "Epoch 29/40\n",
            "198/198 [==============================] - 57s 287ms/step - loss: 0.1933 - accuracy: 0.9288 - val_loss: 0.1482 - val_accuracy: 0.9559\n",
            "Epoch 30/40\n",
            "198/198 [==============================] - 59s 297ms/step - loss: 0.1849 - accuracy: 0.9274 - val_loss: 0.1533 - val_accuracy: 0.9431\n",
            "Epoch 31/40\n",
            "198/198 [==============================] - 57s 287ms/step - loss: 0.1838 - accuracy: 0.9320 - val_loss: 0.1598 - val_accuracy: 0.9360\n",
            "Epoch 32/40\n",
            "198/198 [==============================] - 57s 288ms/step - loss: 0.1759 - accuracy: 0.9359 - val_loss: 0.1705 - val_accuracy: 0.9445\n",
            "Epoch 33/40\n",
            "198/198 [==============================] - 57s 287ms/step - loss: 0.1698 - accuracy: 0.9377 - val_loss: 0.1493 - val_accuracy: 0.9417\n",
            "Epoch 34/40\n",
            "198/198 [==============================] - 57s 288ms/step - loss: 0.1732 - accuracy: 0.9347 - val_loss: 0.2089 - val_accuracy: 0.9218\n",
            "Epoch 35/40\n",
            "198/198 [==============================] - 59s 297ms/step - loss: 0.1807 - accuracy: 0.9304 - val_loss: 0.1341 - val_accuracy: 0.9545\n",
            "Epoch 36/40\n",
            "198/198 [==============================] - 57s 288ms/step - loss: 0.1577 - accuracy: 0.9415 - val_loss: 0.1841 - val_accuracy: 0.9346\n",
            "Epoch 37/40\n",
            "198/198 [==============================] - 57s 288ms/step - loss: 0.1866 - accuracy: 0.9293 - val_loss: 0.1647 - val_accuracy: 0.9502\n",
            "Epoch 38/40\n",
            "198/198 [==============================] - 61s 308ms/step - loss: 0.1897 - accuracy: 0.9294 - val_loss: 0.1271 - val_accuracy: 0.9531\n",
            "Epoch 39/40\n",
            "198/198 [==============================] - 57s 288ms/step - loss: 0.1629 - accuracy: 0.9411 - val_loss: 0.1188 - val_accuracy: 0.9630\n",
            "Epoch 40/40\n",
            "198/198 [==============================] - 59s 296ms/step - loss: 0.1755 - accuracy: 0.9326 - val_loss: 0.1341 - val_accuracy: 0.9630\n"
          ]
        }
      ]
    },
    {
      "cell_type": "code",
      "source": [
        "plt.plot(history2.history[\"loss\"],c = \"red\")\n",
        "plt.plot(history2.history[\"val_loss\"],c = \"green\")\n",
        "plt.title(\"Loss\")\n",
        "plt.ylabel(\"Loss\")\n",
        "plt.xlabel(\"Epochs\")\n",
        "plt.legend([\"train\", \"validation\"])\n",
        "plt.show()"
      ],
      "metadata": {
        "id": "CHiDGLB81bdN",
        "colab": {
          "base_uri": "https://localhost:8080/",
          "height": 295
        },
        "outputId": "77480290-e8d2-42d5-f0db-43845501842d"
      },
      "execution_count": null,
      "outputs": [
        {
          "output_type": "display_data",
          "data": {
            "text/plain": [
              "<Figure size 432x288 with 1 Axes>"
            ],
            "image/png": "[encoded data removed]"
          },
          "metadata": {
            "needs_background": "light"
          }
        }
      ]
    },
    {
      "cell_type": "code",
      "source": [
        "plt.plot(history2.history[\"accuracy\"],c = \"red\")\n",
        "plt.plot(history2.history[\"val_accuracy\"],c = \"green\")\n",
        "plt.title(\"Accuracy\")\n",
        "plt.ylabel(\"Accuracy\")\n",
        "plt.xlabel(\"Epochs\")\n",
        "plt.legend([\"train\", \"validation\"])\n",
        "plt.show()"
      ],
      "metadata": {
        "id": "zZgfv1Uw1nBX",
        "colab": {
          "base_uri": "https://localhost:8080/",
          "height": 295
        },
        "outputId": "a87479bc-1ca6-43af-feed-020cd5b5a02c"
      },
      "execution_count": null,
      "outputs": [
        {
          "output_type": "display_data",
          "data": {
            "text/plain": [
              "<Figure size 432x288 with 1 Axes>"
            ],
            "image/png": "[encoded data removed]"
          },
          "metadata": {
            "needs_background": "light"
          }
        }
      ]
    },
    {
      "cell_type": "code",
      "source": [
        "test_predictions = model2.predict(X_test)\n",
        "preds = np.argmax(test_predictions, axis=1)\n",
        "actual_label = np.argmax(y_test, axis=1)\n",
        "print(classification_report(actual_label, preds))"
      ],
      "metadata": {
        "id": "f3J6H21O2Lw-",
        "colab": {
          "base_uri": "https://localhost:8080/"
        },
        "outputId": "6529eb8a-a5f3-4aaa-ad60-df3178ef3d4a"
      },
      "execution_count": null,
      "outputs": [
        {
          "output_type": "stream",
          "name": "stdout",
          "text": [
            "22/22 [==============================] - 4s 165ms/step\n",
            "              precision    recall  f1-score   support\n",
            "\n",
            "           0       0.99      0.87      0.93       159\n",
            "           1       0.89      0.99      0.93       158\n",
            "           2       1.00      0.99      0.99       193\n",
            "           3       0.98      0.99      0.98       193\n",
            "\n",
            "    accuracy                           0.96       703\n",
            "   macro avg       0.96      0.96      0.96       703\n",
            "weighted avg       0.97      0.96      0.96       703\n",
            "\n"
          ]
        }
      ]
    },
    {
      "cell_type": "code",
      "source": [
        "cnf = confusion_matrix(actual_label, preds)\n",
        "plt.figure(figsize=(8,6), dpi=70, facecolor='w', edgecolor='k')\n",
        "ax = sns.heatmap(cnf, cmap='Blues', annot=True, fmt = 'd', xticklabels=labels, yticklabels=labels)\n",
        "plt.title('Brain Tumor MRI Classification')\n",
        "plt.xlabel('Prediction')\n",
        "plt.ylabel('Ground Truth')\n",
        "plt.show(ax)"
      ],
      "metadata": {
        "colab": {
          "base_uri": "https://localhost:8080/",
          "height": 394
        },
        "id": "jAVM3xcb5MIR",
        "outputId": "7cf1c89d-ad17-4577-bc68-92cb1f9af2c2"
      },
      "execution_count": null,
      "outputs": [
        {
          "output_type": "display_data",
          "data": {
            "text/plain": [
              "<Figure size 560x420 with 2 Axes>"
            ],
            "image/png": "[encoded data removed]"
          },
          "metadata": {}
        }
      ]
    },
    {
      "cell_type": "code",
      "source": [
        "os.chdir('/content/drive/MyDrive/Brain_tumor_classification/graph')\n",
        "# !mkdir VGG16\n",
        "os.chdir('/content/drive/MyDrive/Brain_tumor_classification/graph/VGG16')\n",
        "import pickle\n",
        "\n",
        "f = open('history2.pckl', 'wb')\n",
        "history2 = pickle.dump(history2.history, f)\n",
        "f.close()"
      ],
      "metadata": {
        "id": "PZMw7ra45QzW"
      },
      "execution_count": null,
      "outputs": []
    },
    {
      "cell_type": "code",
      "source": [
        "os.chdir('/content/drive/MyDrive/Brain_tumor_classification/saved/')\n",
        "!ls"
      ],
      "metadata": {
        "colab": {
          "base_uri": "https://localhost:8080/"
        },
        "id": "1YAJtOvk6Oft",
        "outputId": "65083764-cc01-45df-d87a-f224688ee4e2"
      },
      "execution_count": null,
      "outputs": [
        {
          "output_type": "stream",
          "name": "stdout",
          "text": [
            "CNN.h5\tMobileNetv2.h5\tResNet50.h5  VGG16.h5\n"
          ]
        }
      ]
    },
    {
      "cell_type": "code",
      "source": [
        "model2.save('VGG16.h5', save_format='h5')"
      ],
      "metadata": {
        "id": "PvGCALgY6PbD"
      },
      "execution_count": null,
      "outputs": []
    },
    {
      "cell_type": "code",
      "source": [
        "os.chdir('/content/drive/MyDrive/Brain_tumor_classification/graph/VGG16/')\n",
        "import pickle\n",
        "\n",
        "f = open('history2.pckl', 'rb')\n",
        "history2 = pickle.load(f)\n",
        "f.close()"
      ],
      "metadata": {
        "id": "XsFc8X2R8G1P"
      },
      "execution_count": null,
      "outputs": []
    },
    {
      "cell_type": "code",
      "source": [
        "history2['accuracy']"
      ],
      "metadata": {
        "colab": {
          "base_uri": "https://localhost:8080/"
        },
        "id": "Ytb9Hgp38bZ2",
        "outputId": "b3890b51-ec51-41f1-d5e3-a00517c8445f"
      },
      "execution_count": null,
      "outputs": [
        {
          "output_type": "execute_result",
          "data": {
            "text/plain": [
              "[0.7159810066223145,\n",
              " 0.8216772079467773,\n",
              " 0.8487342000007629,\n",
              " 0.8596519231796265,\n",
              " 0.8710442781448364,\n",
              " 0.8789557218551636,\n",
              " 0.8825949430465698,\n",
              " 0.8947784900665283,\n",
              " 0.8903480768203735,\n",
              " 0.9009493589401245,\n",
              " 0.9041139483451843,\n",
              " 0.9041139483451843,\n",
              " 0.9044303894042969,\n",
              " 0.9053797721862793,\n",
              " 0.9085443019866943,\n",
              " 0.9104430675506592,\n",
              " 0.9218354225158691,\n",
              " 0.9142404794692993,\n",
              " 0.9199367165565491,\n",
              " 0.9219936728477478,\n",
              " 0.9191455841064453,\n",
              " 0.9245253205299377,\n",
              " 0.9253164529800415,\n",
              " 0.9272152185440063,\n",
              " 0.9275316596031189,\n",
              " 0.9292721748352051,\n",
              " 0.9295886158943176,\n",
              " 0.9227848052978516,\n",
              " 0.9287974834442139,\n",
              " 0.9273734092712402,\n",
              " 0.9319620132446289,\n",
              " 0.9359177350997925,\n",
              " 0.9376582503318787,\n",
              " 0.9346519112586975,\n",
              " 0.9303797483444214,\n",
              " 0.9414557218551636,\n",
              " 0.9292721748352051,\n",
              " 0.929430365562439,\n",
              " 0.9411392211914062,\n",
              " 0.9325949549674988]"
            ]
          },
          "metadata": {},
          "execution_count": 66
        }
      ]
    },
    {
      "cell_type": "markdown",
      "source": [
        "#MobileNetV2"
      ],
      "metadata": {
        "id": "dp4OhUvWhYHG"
      }
    },
    {
      "cell_type": "code",
      "source": [
        "# MobileNet\n",
        "base_model = keras.applications.mobilenet_v2.MobileNetV2(input_shape=(IMG_SIZE,IMG_SIZE,3), include_top=False, weights='imagenet')\n",
        "# # Set all layers to non-trainable\n",
        "for layer in base_model.layers:\n",
        "    layer.trainable = False\n",
        "\n",
        "model3 = Sequential()\n",
        "model3.add(resize_and_rescale)\n",
        "model3.add(data_augmentation)\n",
        "model3.add(keras.Input(shape=(IMG_SIZE,IMG_SIZE,3)))\n",
        "model3.add(base_model)\n",
        "model3.add(GlobalAveragePooling2D())\n",
        "model3.add(Dropout(0.2))\n",
        "\n",
        "model3.add(Dense(4, activation='softmax'))\n",
        "\n",
        "model3.build(input_shape=(None, IMG_SIZE, IMG_SIZE, 3))\n",
        "model3.summary()"
      ],
      "metadata": {
        "colab": {
          "base_uri": "https://localhost:8080/"
        },
        "id": "iurJOR8ZjFGy",
        "outputId": "5d00a37a-68ee-4686-e056-cd21d402a53c"
      },
      "execution_count": null,
      "outputs": [
        {
          "output_type": "stream",
          "name": "stdout",
          "text": [
            "Downloading data from https://storage.googleapis.com/tensorflow/keras-applications/mobilenet_v2/mobilenet_v2_weights_tf_dim_ordering_tf_kernels_1.0_224_no_top.h5\n",
            "9406464/9406464 [==============================] - 0s 0us/step\n",
            "Model: \"sequential_2\"\n",
            "_________________________________________________________________\n",
            " Layer (type)                Output Shape              Param #   \n",
            "=================================================================\n",
            " sequential (Sequential)     (None, 224, 224, 3)       0         \n",
            "                                                                 \n",
            " sequential_1 (Sequential)   (None, 224, 224, 3)       0         \n",
            "                                                                 \n",
            " input_2 (InputLayer)        multiple                  0         \n",
            "                                                                 \n",
            " mobilenetv2_1.00_224 (Funct  (None, 7, 7, 1280)       2257984   \n",
            " ional)                                                          \n",
            "                                                                 \n",
            " global_average_pooling2d (G  (None, 1280)             0         \n",
            " lobalAveragePooling2D)                                          \n",
            "                                                                 \n",
            " dropout (Dropout)           (None, 1280)              0         \n",
            "                                                                 \n",
            " dense (Dense)               (None, 4)                 5124      \n",
            "                                                                 \n",
            "=================================================================\n",
            "Total params: 2,263,108\n",
            "Trainable params: 5,124\n",
            "Non-trainable params: 2,257,984\n",
            "_________________________________________________________________\n"
          ]
        }
      ]
    },
    {
      "cell_type": "code",
      "source": [
        "opt = tf.keras.optimizers.Adam(learning_rate=0.001)\n",
        "model3.compile(optimizer=opt,\n",
        "              loss=tf.keras.losses.CategoricalCrossentropy(from_logits=False),\n",
        "              metrics=['accuracy'])\n",
        "              \n",
        "history3 = model3.fit(X_train,\n",
        "                     y_train, \n",
        "                     validation_data=(X_test, y_test),\n",
        "                     epochs=40,\n",
        "                     batch_size= 32)"
      ],
      "metadata": {
        "colab": {
          "base_uri": "https://localhost:8080/"
        },
        "id": "7kMAO-RfiPx0",
        "outputId": "63ffca42-358b-4d54-e7a0-68fa0d56e791"
      },
      "execution_count": null,
      "outputs": [
        {
          "output_type": "stream",
          "name": "stdout",
          "text": [
            "Epoch 1/40\n"
          ]
        },
        {
          "output_type": "stream",
          "name": "stderr",
          "text": [
            "WARNING:tensorflow:Using a while_loop for converting RngReadAndSkip\n",
            "WARNING:tensorflow:Using a while_loop for converting Bitcast\n",
            "WARNING:tensorflow:Using a while_loop for converting Bitcast\n",
            "WARNING:tensorflow:Using a while_loop for converting StatelessRandomUniformFullIntV2\n",
            "WARNING:tensorflow:Using a while_loop for converting StatelessRandomGetKeyCounter\n",
            "WARNING:tensorflow:Using a while_loop for converting StatelessRandomUniformV2\n",
            "WARNING:tensorflow:Using a while_loop for converting AdjustContrastv2\n",
            "WARNING:tensorflow:Using a while_loop for converting RngReadAndSkip\n",
            "WARNING:tensorflow:Using a while_loop for converting Bitcast\n",
            "WARNING:tensorflow:Using a while_loop for converting Bitcast\n",
            "WARNING:tensorflow:Using a while_loop for converting StatelessRandomUniformFullIntV2\n",
            "WARNING:tensorflow:Using a while_loop for converting StatelessRandomGetKeyCounter\n",
            "WARNING:tensorflow:Using a while_loop for converting StatelessRandomUniformV2\n",
            "WARNING:tensorflow:Using a while_loop for converting AdjustContrastv2\n",
            "WARNING:tensorflow:Using a while_loop for converting RngReadAndSkip\n",
            "WARNING:tensorflow:Using a while_loop for converting Bitcast\n",
            "WARNING:tensorflow:Using a while_loop for converting Bitcast\n",
            "WARNING:tensorflow:Using a while_loop for converting StatelessRandomUniformFullIntV2\n",
            "WARNING:tensorflow:Using a while_loop for converting StatelessRandomGetKeyCounter\n",
            "WARNING:tensorflow:Using a while_loop for converting StatelessRandomUniformV2\n",
            "WARNING:tensorflow:Using a while_loop for converting AdjustContrastv2\n"
          ]
        },
        {
          "output_type": "stream",
          "name": "stdout",
          "text": [
            "198/198 [==============================] - 41s 169ms/step - loss: 0.6253 - accuracy: 0.7634 - val_loss: 0.4177 - val_accuracy: 0.8435\n",
            "Epoch 2/40\n",
            "198/198 [==============================] - 33s 168ms/step - loss: 0.4145 - accuracy: 0.8464 - val_loss: 0.3995 - val_accuracy: 0.8336\n",
            "Epoch 3/40\n",
            "198/198 [==============================] - 32s 163ms/step - loss: 0.3712 - accuracy: 0.8619 - val_loss: 0.3323 - val_accuracy: 0.8691\n",
            "Epoch 4/40\n",
            "198/198 [==============================] - 32s 163ms/step - loss: 0.3448 - accuracy: 0.8720 - val_loss: 0.3794 - val_accuracy: 0.8606\n",
            "Epoch 5/40\n",
            "198/198 [==============================] - 32s 162ms/step - loss: 0.3356 - accuracy: 0.8747 - val_loss: 0.3073 - val_accuracy: 0.8805\n",
            "Epoch 6/40\n",
            "198/198 [==============================] - 32s 160ms/step - loss: 0.3110 - accuracy: 0.8837 - val_loss: 0.2965 - val_accuracy: 0.8876\n",
            "Epoch 7/40\n",
            "198/198 [==============================] - 32s 162ms/step - loss: 0.3000 - accuracy: 0.8862 - val_loss: 0.3286 - val_accuracy: 0.8649\n",
            "Epoch 8/40\n",
            "198/198 [==============================] - 35s 178ms/step - loss: 0.3062 - accuracy: 0.8880 - val_loss: 0.2773 - val_accuracy: 0.8933\n",
            "Epoch 9/40\n",
            "198/198 [==============================] - 32s 160ms/step - loss: 0.2990 - accuracy: 0.8905 - val_loss: 0.3391 - val_accuracy: 0.8634\n",
            "Epoch 10/40\n",
            "198/198 [==============================] - 32s 164ms/step - loss: 0.2898 - accuracy: 0.8905 - val_loss: 0.3232 - val_accuracy: 0.8634\n",
            "Epoch 11/40\n",
            "198/198 [==============================] - 33s 166ms/step - loss: 0.2858 - accuracy: 0.8932 - val_loss: 0.2886 - val_accuracy: 0.8819\n",
            "Epoch 12/40\n",
            "198/198 [==============================] - 32s 162ms/step - loss: 0.2903 - accuracy: 0.8891 - val_loss: 0.3174 - val_accuracy: 0.8720\n",
            "Epoch 13/40\n",
            "198/198 [==============================] - 32s 163ms/step - loss: 0.2701 - accuracy: 0.8998 - val_loss: 0.2796 - val_accuracy: 0.8976\n",
            "Epoch 14/40\n",
            "198/198 [==============================] - 32s 162ms/step - loss: 0.2870 - accuracy: 0.8897 - val_loss: 0.3204 - val_accuracy: 0.8734\n",
            "Epoch 15/40\n",
            "198/198 [==============================] - 32s 163ms/step - loss: 0.2710 - accuracy: 0.8979 - val_loss: 0.2928 - val_accuracy: 0.8905\n",
            "Epoch 16/40\n",
            "198/198 [==============================] - 33s 164ms/step - loss: 0.2732 - accuracy: 0.8978 - val_loss: 0.2907 - val_accuracy: 0.8862\n",
            "Epoch 17/40\n",
            "198/198 [==============================] - 35s 178ms/step - loss: 0.2760 - accuracy: 0.8930 - val_loss: 0.2904 - val_accuracy: 0.8905\n",
            "Epoch 18/40\n",
            "198/198 [==============================] - 32s 162ms/step - loss: 0.2680 - accuracy: 0.9006 - val_loss: 0.2658 - val_accuracy: 0.8905\n",
            "Epoch 19/40\n",
            "198/198 [==============================] - 33s 166ms/step - loss: 0.2728 - accuracy: 0.8998 - val_loss: 0.2614 - val_accuracy: 0.8990\n",
            "Epoch 20/40\n",
            "198/198 [==============================] - 33s 165ms/step - loss: 0.2663 - accuracy: 0.9013 - val_loss: 0.2558 - val_accuracy: 0.8947\n",
            "Epoch 21/40\n",
            "198/198 [==============================] - 33s 164ms/step - loss: 0.2650 - accuracy: 0.8979 - val_loss: 0.2587 - val_accuracy: 0.8990\n",
            "Epoch 22/40\n",
            "198/198 [==============================] - 32s 164ms/step - loss: 0.2642 - accuracy: 0.8992 - val_loss: 0.3031 - val_accuracy: 0.8848\n",
            "Epoch 23/40\n",
            "198/198 [==============================] - 32s 160ms/step - loss: 0.2593 - accuracy: 0.9008 - val_loss: 0.2763 - val_accuracy: 0.8947\n",
            "Epoch 24/40\n",
            "198/198 [==============================] - 32s 161ms/step - loss: 0.2528 - accuracy: 0.9082 - val_loss: 0.2758 - val_accuracy: 0.8890\n",
            "Epoch 25/40\n",
            "198/198 [==============================] - 32s 163ms/step - loss: 0.2625 - accuracy: 0.8972 - val_loss: 0.2417 - val_accuracy: 0.9090\n",
            "Epoch 26/40\n",
            "198/198 [==============================] - 32s 162ms/step - loss: 0.2605 - accuracy: 0.9014 - val_loss: 0.2712 - val_accuracy: 0.8962\n",
            "Epoch 27/40\n",
            "198/198 [==============================] - 35s 179ms/step - loss: 0.2586 - accuracy: 0.9027 - val_loss: 0.2476 - val_accuracy: 0.9033\n",
            "Epoch 28/40\n",
            "198/198 [==============================] - 32s 161ms/step - loss: 0.2606 - accuracy: 0.9008 - val_loss: 0.2656 - val_accuracy: 0.9004\n",
            "Epoch 29/40\n",
            "198/198 [==============================] - 32s 163ms/step - loss: 0.2639 - accuracy: 0.8998 - val_loss: 0.2536 - val_accuracy: 0.9004\n",
            "Epoch 30/40\n",
            "198/198 [==============================] - 32s 162ms/step - loss: 0.2572 - accuracy: 0.9024 - val_loss: 0.2377 - val_accuracy: 0.9061\n",
            "Epoch 31/40\n",
            "198/198 [==============================] - 32s 163ms/step - loss: 0.2549 - accuracy: 0.8995 - val_loss: 0.2610 - val_accuracy: 0.8990\n",
            "Epoch 32/40\n",
            "198/198 [==============================] - 32s 162ms/step - loss: 0.2577 - accuracy: 0.8989 - val_loss: 0.2495 - val_accuracy: 0.9047\n",
            "Epoch 33/40\n",
            "198/198 [==============================] - 32s 162ms/step - loss: 0.2618 - accuracy: 0.9014 - val_loss: 0.2868 - val_accuracy: 0.8791\n",
            "Epoch 34/40\n",
            "198/198 [==============================] - 32s 162ms/step - loss: 0.2492 - accuracy: 0.9060 - val_loss: 0.2742 - val_accuracy: 0.8947\n",
            "Epoch 35/40\n",
            "198/198 [==============================] - 32s 163ms/step - loss: 0.2502 - accuracy: 0.9089 - val_loss: 0.2520 - val_accuracy: 0.9033\n",
            "Epoch 36/40\n",
            "198/198 [==============================] - 35s 178ms/step - loss: 0.2491 - accuracy: 0.9040 - val_loss: 0.2698 - val_accuracy: 0.8947\n",
            "Epoch 37/40\n",
            "198/198 [==============================] - 32s 162ms/step - loss: 0.2478 - accuracy: 0.9060 - val_loss: 0.2341 - val_accuracy: 0.9090\n",
            "Epoch 38/40\n",
            "198/198 [==============================] - 32s 161ms/step - loss: 0.2467 - accuracy: 0.9079 - val_loss: 0.2704 - val_accuracy: 0.8876\n",
            "Epoch 39/40\n",
            "198/198 [==============================] - 32s 160ms/step - loss: 0.2522 - accuracy: 0.8989 - val_loss: 0.2914 - val_accuracy: 0.8905\n",
            "Epoch 40/40\n",
            "198/198 [==============================] - 32s 163ms/step - loss: 0.2517 - accuracy: 0.8991 - val_loss: 0.2549 - val_accuracy: 0.9018\n"
          ]
        }
      ]
    },
    {
      "cell_type": "code",
      "source": [
        "plt.plot(history3.history[\"loss\"],c = \"red\")\n",
        "plt.plot(history3.history[\"val_loss\"],c = \"green\")\n",
        "plt.title(\"Loss\")\n",
        "plt.ylabel(\"Loss\")\n",
        "plt.xlabel(\"Epochs\")\n",
        "plt.legend([\"train\", \"validation\"])\n",
        "plt.show()"
      ],
      "metadata": {
        "colab": {
          "base_uri": "https://localhost:8080/",
          "height": 295
        },
        "id": "DO_W8mJ19mx1",
        "outputId": "002757d1-eb0d-48e6-92d9-9c1b29415be2"
      },
      "execution_count": null,
      "outputs": [
        {
          "output_type": "display_data",
          "data": {
            "text/plain": [
              "<Figure size 432x288 with 1 Axes>"
            ],
            "image/png": "[encoded data removed]"
          },
          "metadata": {
            "needs_background": "light"
          }
        }
      ]
    },
    {
      "cell_type": "code",
      "source": [
        "plt.plot(history3.history[\"accuracy\"],c = \"red\")\n",
        "plt.plot(history3.history[\"val_accuracy\"],c = \"green\")\n",
        "plt.title(\"Accuracy\")\n",
        "plt.ylabel(\"Accuracy\")\n",
        "plt.xlabel(\"Epochs\")\n",
        "plt.legend([\"train\", \"validation\"])\n",
        "plt.show()"
      ],
      "metadata": {
        "colab": {
          "base_uri": "https://localhost:8080/",
          "height": 295
        },
        "id": "B2Cd6iiP9ybs",
        "outputId": "2a2e7534-30e9-4038-8df3-978fac626662"
      },
      "execution_count": null,
      "outputs": [
        {
          "output_type": "display_data",
          "data": {
            "text/plain": [
              "<Figure size 432x288 with 1 Axes>"
            ],
            "image/png": "[encoded data removed]"
          },
          "metadata": {
            "needs_background": "light"
          }
        }
      ]
    },
    {
      "cell_type": "code",
      "source": [
        "test_predictions = model3.predict(X_test)\n",
        "preds = np.argmax(test_predictions, axis=1)\n",
        "actual_label = np.argmax(y_test, axis=1)\n",
        "print(classification_report(actual_label, preds))"
      ],
      "metadata": {
        "colab": {
          "base_uri": "https://localhost:8080/"
        },
        "id": "ZIQQKe1u9z2d",
        "outputId": "68f92dfb-8620-4adf-9dd8-c03e12b2c3fb"
      },
      "execution_count": null,
      "outputs": [
        {
          "output_type": "stream",
          "name": "stdout",
          "text": [
            "22/22 [==============================] - 1s 38ms/step\n",
            "              precision    recall  f1-score   support\n",
            "\n",
            "           0       0.88      0.84      0.86       159\n",
            "           1       0.84      0.78      0.81       158\n",
            "           2       0.99      0.95      0.97       193\n",
            "           3       0.89      1.00      0.94       193\n",
            "\n",
            "    accuracy                           0.90       703\n",
            "   macro avg       0.90      0.89      0.89       703\n",
            "weighted avg       0.90      0.90      0.90       703\n",
            "\n"
          ]
        }
      ]
    },
    {
      "cell_type": "code",
      "source": [
        "cnf = confusion_matrix(actual_label, preds)\n",
        "plt.figure(figsize=(8,6), dpi=70, facecolor='w', edgecolor='k')\n",
        "ax = sns.heatmap(cnf, cmap='Blues', annot=True, fmt = 'd', xticklabels=labels, yticklabels=labels)\n",
        "plt.title('Brain Tumor MRI Classification')\n",
        "plt.xlabel('Prediction')\n",
        "plt.ylabel('Ground Truth')\n",
        "plt.show(ax)"
      ],
      "metadata": {
        "colab": {
          "base_uri": "https://localhost:8080/",
          "height": 394
        },
        "id": "sXxABbdX94lm",
        "outputId": "a8545e93-e10b-4317-ae6a-e0097f85a95f"
      },
      "execution_count": null,
      "outputs": [
        {
          "output_type": "display_data",
          "data": {
            "text/plain": [
              "<Figure size 560x420 with 2 Axes>"
            ],
            "image/png": "[encoded data removed]"
          },
          "metadata": {}
        }
      ]
    },
    {
      "cell_type": "code",
      "source": [
        "cnf = confusion_matrix(actual_label, preds)\n",
        "plt.figure(figsize=(8,6), dpi=70, facecolor='w', edgecolor='k')\n",
        "ax = sns.heatmap(cnf, cmap='Blues', annot=True, fmt = 'd', xticklabels=labels, yticklabels=labels)\n",
        "plt.title('Brain Tumor MRI Classification')\n",
        "plt.xlabel('Prediction')\n",
        "plt.ylabel('Ground Truth')\n",
        "plt.show(ax)"
      ],
      "metadata": {
        "colab": {
          "base_uri": "https://localhost:8080/",
          "height": 394
        },
        "id": "wYVWObur99Ei",
        "outputId": "8785da97-896c-443e-fc82-0c5d92f91e13"
      },
      "execution_count": null,
      "outputs": [
        {
          "output_type": "display_data",
          "data": {
            "text/plain": [
              "<Figure size 560x420 with 2 Axes>"
            ],
            "image/png": "[encoded data removed]"
          },
          "metadata": {}
        }
      ]
    },
    {
      "cell_type": "code",
      "source": [
        "os.chdir('/content/drive/MyDrive/Brain_tumor_classification/graph')\n",
        "# !mkdir MobileNet\n",
        "os.chdir('/content/drive/MyDrive/Brain_tumor_classification/graph/MobileNet')\n",
        "import pickle\n",
        "\n",
        "# f = open('history3.pckl', 'wb')\n",
        "# history3 = pickle.dump(history3.history, f)\n",
        "# f.close()\n",
        "\n",
        "f = open('history3.pckl', 'rb')\n",
        "history3 = pickle.load(f)\n",
        "f.close()"
      ],
      "metadata": {
        "id": "Z18FUdPI-HVp"
      },
      "execution_count": null,
      "outputs": []
    },
    {
      "cell_type": "code",
      "source": [
        "os.chdir('/content/drive/MyDrive/Brain_tumor_classification/saved/')\n",
        "!ls"
      ],
      "metadata": {
        "colab": {
          "base_uri": "https://localhost:8080/"
        },
        "id": "J4P-VYWrCj_D",
        "outputId": "0c95b5d9-233d-46a6-d939-4b04d964036d"
      },
      "execution_count": null,
      "outputs": [
        {
          "output_type": "stream",
          "name": "stdout",
          "text": [
            "CNN.h5\tMobileNetv2.h5\tResNet50.h5  VGG16.h5\n"
          ]
        }
      ]
    },
    {
      "cell_type": "code",
      "source": [
        "model3.save('MobileNetv2.h5', save_format='h5')"
      ],
      "metadata": {
        "id": "e-QTdHFSCvFz"
      },
      "execution_count": null,
      "outputs": []
    },
    {
      "cell_type": "markdown",
      "source": [
        "#ResNet50"
      ],
      "metadata": {
        "id": "EiPwW75wAFke"
      }
    },
    {
      "cell_type": "code",
      "source": [
        "# MobileNet\n",
        "base_model = keras.applications.resnet50.ResNet50(input_shape=(IMG_SIZE,IMG_SIZE,3), include_top=False, weights='imagenet')\n",
        "# Set all layers to non-trainable\n",
        "for layer in base_model.layers:\n",
        "    layer.trainable = False\n",
        "\n",
        "model4 = Sequential()\n",
        "model4.add(resize_and_rescale)\n",
        "model4.add(data_augmentation)\n",
        "model4.add(keras.Input(shape=(IMG_SIZE,IMG_SIZE,3)))\n",
        "model4.add(base_model)\n",
        "model4.add(GlobalAveragePooling2D())\n",
        "model4.add(Dense((1024), activation='relu'))\n",
        "model4.add(Dense(4, activation='softmax'))\n",
        "\n",
        "model4.build(input_shape=(None, IMG_SIZE, IMG_SIZE, 3))\n",
        "model4.summary()"
      ],
      "metadata": {
        "colab": {
          "base_uri": "https://localhost:8080/"
        },
        "id": "BjYNolRiAKVD",
        "outputId": "b86f2de8-194f-4cb0-8b11-56a64c362283"
      },
      "execution_count": null,
      "outputs": [
        {
          "output_type": "stream",
          "name": "stdout",
          "text": [
            "Model: \"sequential_12\"\n",
            "_________________________________________________________________\n",
            " Layer (type)                Output Shape              Param #   \n",
            "=================================================================\n",
            " sequential_10 (Sequential)  (None, 224, 224, 3)       0         \n",
            "                                                                 \n",
            " sequential_11 (Sequential)  (None, 224, 224, 3)       0         \n",
            "                                                                 \n",
            " input_10 (InputLayer)       multiple                  0         \n",
            "                                                                 \n",
            " resnet50 (Functional)       (None, 7, 7, 2048)        23587712  \n",
            "                                                                 \n",
            " global_average_pooling2d_4   (None, 2048)             0         \n",
            " (GlobalAveragePooling2D)                                        \n",
            "                                                                 \n",
            " dense_10 (Dense)            (None, 1024)              2098176   \n",
            "                                                                 \n",
            " dense_11 (Dense)            (None, 4)                 4100      \n",
            "                                                                 \n",
            "=================================================================\n",
            "Total params: 25,689,988\n",
            "Trainable params: 2,102,276\n",
            "Non-trainable params: 23,587,712\n",
            "_________________________________________________________________\n"
          ]
        }
      ]
    },
    {
      "cell_type": "code",
      "source": [
        "opt = tf.keras.optimizers.Adam(learning_rate=0.001)\n",
        "model4.compile(optimizer=opt,\n",
        "              loss=tf.keras.losses.CategoricalCrossentropy(from_logits=False),\n",
        "              metrics=['accuracy'])\n",
        "              \n",
        "history4 = model4.fit(X_train,\n",
        "                     y_train, \n",
        "                     validation_data=(X_test, y_test),\n",
        "                     epochs=40,\n",
        "                     batch_size= 32)"
      ],
      "metadata": {
        "colab": {
          "base_uri": "https://localhost:8080/"
        },
        "id": "hQTybnD5M5u8",
        "outputId": "7aa1e0d4-4412-4fd8-830e-f9e34e7cc122"
      },
      "execution_count": null,
      "outputs": [
        {
          "output_type": "stream",
          "name": "stdout",
          "text": [
            "Epoch 1/40\n",
            "198/198 [==============================] - 28s 121ms/step - loss: 1.1295 - accuracy: 0.5302 - val_loss: 1.0412 - val_accuracy: 0.4979\n",
            "Epoch 2/40\n",
            "198/198 [==============================] - 23s 115ms/step - loss: 0.8783 - accuracy: 0.6378 - val_loss: 0.7853 - val_accuracy: 0.6657\n",
            "Epoch 3/40\n",
            "198/198 [==============================] - 23s 115ms/step - loss: 0.7733 - accuracy: 0.6883 - val_loss: 0.7207 - val_accuracy: 0.7155\n",
            "Epoch 4/40\n",
            "198/198 [==============================] - 23s 118ms/step - loss: 0.7419 - accuracy: 0.6973 - val_loss: 0.7034 - val_accuracy: 0.7198\n",
            "Epoch 5/40\n",
            "198/198 [==============================] - 23s 115ms/step - loss: 0.7039 - accuracy: 0.7134 - val_loss: 0.6882 - val_accuracy: 0.6984\n",
            "Epoch 6/40\n",
            "198/198 [==============================] - 23s 116ms/step - loss: 0.6687 - accuracy: 0.7282 - val_loss: 0.5824 - val_accuracy: 0.7738\n",
            "Epoch 7/40\n",
            "198/198 [==============================] - 23s 115ms/step - loss: 0.6581 - accuracy: 0.7339 - val_loss: 0.6183 - val_accuracy: 0.7383\n",
            "Epoch 8/40\n",
            "198/198 [==============================] - 23s 115ms/step - loss: 0.6561 - accuracy: 0.7345 - val_loss: 0.6214 - val_accuracy: 0.7297\n",
            "Epoch 9/40\n",
            "198/198 [==============================] - 23s 114ms/step - loss: 0.6455 - accuracy: 0.7408 - val_loss: 0.6022 - val_accuracy: 0.7582\n",
            "Epoch 10/40\n",
            "198/198 [==============================] - 23s 114ms/step - loss: 0.6121 - accuracy: 0.7475 - val_loss: 0.5686 - val_accuracy: 0.7624\n",
            "Epoch 11/40\n",
            "198/198 [==============================] - 23s 114ms/step - loss: 0.6124 - accuracy: 0.7536 - val_loss: 0.5147 - val_accuracy: 0.7923\n",
            "Epoch 12/40\n",
            "198/198 [==============================] - 23s 115ms/step - loss: 0.5989 - accuracy: 0.7559 - val_loss: 0.4982 - val_accuracy: 0.7952\n",
            "Epoch 13/40\n",
            "198/198 [==============================] - 23s 115ms/step - loss: 0.5942 - accuracy: 0.7582 - val_loss: 0.5675 - val_accuracy: 0.7596\n",
            "Epoch 14/40\n",
            "198/198 [==============================] - 23s 114ms/step - loss: 0.6216 - accuracy: 0.7465 - val_loss: 0.4941 - val_accuracy: 0.7909\n",
            "Epoch 15/40\n",
            "198/198 [==============================] - 23s 115ms/step - loss: 0.5732 - accuracy: 0.7684 - val_loss: 0.5240 - val_accuracy: 0.7866\n",
            "Epoch 16/40\n",
            "198/198 [==============================] - 23s 114ms/step - loss: 0.5758 - accuracy: 0.7639 - val_loss: 0.4974 - val_accuracy: 0.8094\n",
            "Epoch 17/40\n",
            "198/198 [==============================] - 23s 115ms/step - loss: 0.5637 - accuracy: 0.7685 - val_loss: 0.4722 - val_accuracy: 0.7881\n",
            "Epoch 18/40\n",
            "198/198 [==============================] - 23s 117ms/step - loss: 0.5622 - accuracy: 0.7687 - val_loss: 0.5194 - val_accuracy: 0.7738\n",
            "Epoch 19/40\n",
            "198/198 [==============================] - 23s 114ms/step - loss: 0.5831 - accuracy: 0.7633 - val_loss: 0.4854 - val_accuracy: 0.8108\n",
            "Epoch 20/40\n",
            "198/198 [==============================] - 23s 115ms/step - loss: 0.5616 - accuracy: 0.7717 - val_loss: 0.4818 - val_accuracy: 0.7881\n",
            "Epoch 21/40\n",
            "198/198 [==============================] - 23s 115ms/step - loss: 0.5527 - accuracy: 0.7785 - val_loss: 0.4828 - val_accuracy: 0.7980\n",
            "Epoch 22/40\n",
            "198/198 [==============================] - 23s 116ms/step - loss: 0.5481 - accuracy: 0.7774 - val_loss: 0.5130 - val_accuracy: 0.7809\n",
            "Epoch 23/40\n",
            "198/198 [==============================] - 23s 116ms/step - loss: 0.5273 - accuracy: 0.7829 - val_loss: 0.4829 - val_accuracy: 0.7724\n",
            "Epoch 24/40\n",
            "198/198 [==============================] - 23s 115ms/step - loss: 0.5270 - accuracy: 0.7842 - val_loss: 0.6041 - val_accuracy: 0.7454\n",
            "Epoch 25/40\n",
            "198/198 [==============================] - 23s 115ms/step - loss: 0.5363 - accuracy: 0.7791 - val_loss: 0.4787 - val_accuracy: 0.8065\n",
            "Epoch 26/40\n",
            "198/198 [==============================] - 23s 115ms/step - loss: 0.5328 - accuracy: 0.7782 - val_loss: 0.4994 - val_accuracy: 0.7937\n",
            "Epoch 27/40\n",
            "198/198 [==============================] - 23s 115ms/step - loss: 0.5254 - accuracy: 0.7842 - val_loss: 0.4416 - val_accuracy: 0.8279\n",
            "Epoch 28/40\n",
            "198/198 [==============================] - 23s 115ms/step - loss: 0.5145 - accuracy: 0.7916 - val_loss: 0.4356 - val_accuracy: 0.8222\n",
            "Epoch 29/40\n",
            "198/198 [==============================] - 23s 115ms/step - loss: 0.5259 - accuracy: 0.7832 - val_loss: 0.4397 - val_accuracy: 0.8250\n",
            "Epoch 30/40\n",
            "198/198 [==============================] - 23s 115ms/step - loss: 0.5348 - accuracy: 0.7831 - val_loss: 0.5034 - val_accuracy: 0.7966\n",
            "Epoch 31/40\n",
            "198/198 [==============================] - 23s 118ms/step - loss: 0.5089 - accuracy: 0.7913 - val_loss: 0.5367 - val_accuracy: 0.7752\n",
            "Epoch 32/40\n",
            "198/198 [==============================] - 23s 115ms/step - loss: 0.5278 - accuracy: 0.7859 - val_loss: 0.6447 - val_accuracy: 0.7127\n",
            "Epoch 33/40\n",
            "198/198 [==============================] - 23s 115ms/step - loss: 0.5164 - accuracy: 0.7867 - val_loss: 0.4437 - val_accuracy: 0.8208\n",
            "Epoch 34/40\n",
            "198/198 [==============================] - 23s 115ms/step - loss: 0.5202 - accuracy: 0.7888 - val_loss: 0.5084 - val_accuracy: 0.8037\n",
            "Epoch 35/40\n",
            "198/198 [==============================] - 23s 115ms/step - loss: 0.5038 - accuracy: 0.7940 - val_loss: 0.4459 - val_accuracy: 0.8250\n",
            "Epoch 36/40\n",
            "198/198 [==============================] - 23s 115ms/step - loss: 0.4985 - accuracy: 0.7913 - val_loss: 0.4612 - val_accuracy: 0.8236\n",
            "Epoch 37/40\n",
            "198/198 [==============================] - 23s 115ms/step - loss: 0.5028 - accuracy: 0.7957 - val_loss: 0.5048 - val_accuracy: 0.7980\n",
            "Epoch 38/40\n",
            "198/198 [==============================] - 23s 115ms/step - loss: 0.5272 - accuracy: 0.7867 - val_loss: 0.4621 - val_accuracy: 0.8151\n",
            "Epoch 39/40\n",
            "198/198 [==============================] - 23s 115ms/step - loss: 0.5085 - accuracy: 0.7929 - val_loss: 0.4194 - val_accuracy: 0.8193\n",
            "Epoch 40/40\n",
            "198/198 [==============================] - 23s 115ms/step - loss: 0.4798 - accuracy: 0.8043 - val_loss: 0.4261 - val_accuracy: 0.8293\n"
          ]
        }
      ]
    },
    {
      "cell_type": "code",
      "source": [
        "plt.plot(history4.history[\"loss\"],c = \"red\")\n",
        "plt.plot(history4.history[\"val_loss\"],c = \"green\")\n",
        "plt.title(\"Loss\")\n",
        "plt.ylabel(\"Loss\")\n",
        "plt.xlabel(\"Epochs\")\n",
        "plt.legend([\"train\", \"validation\"])\n",
        "plt.show()"
      ],
      "metadata": {
        "colab": {
          "base_uri": "https://localhost:8080/",
          "height": 295
        },
        "id": "wKT1WT3yNpC9",
        "outputId": "4c896405-f164-4a82-db66-88c49dee3050"
      },
      "execution_count": null,
      "outputs": [
        {
          "output_type": "display_data",
          "data": {
            "text/plain": [
              "<Figure size 432x288 with 1 Axes>"
            ],
            "image/png": "[encoded data removed]"
          },
          "metadata": {
            "needs_background": "light"
          }
        }
      ]
    },
    {
      "cell_type": "code",
      "source": [
        "plt.plot(history4.history[\"accuracy\"],c = \"red\")\n",
        "plt.plot(history4.history[\"val_accuracy\"],c = \"green\")\n",
        "plt.title(\"Accuracy\")\n",
        "plt.ylabel(\"Accuracy\")\n",
        "plt.xlabel(\"Epochs\")\n",
        "plt.legend([\"train\", \"validation\"])\n",
        "plt.show()"
      ],
      "metadata": {
        "colab": {
          "base_uri": "https://localhost:8080/",
          "height": 295
        },
        "id": "0-Eu5tbLN0oF",
        "outputId": "49c1c92a-7648-4d99-d736-dbf7a1a89ecb"
      },
      "execution_count": null,
      "outputs": [
        {
          "output_type": "display_data",
          "data": {
            "text/plain": [
              "<Figure size 432x288 with 1 Axes>"
            ],
            "image/png": "[encoded data removed]"
          },
          "metadata": {
            "needs_background": "light"
          }
        }
      ]
    },
    {
      "cell_type": "code",
      "source": [
        "test_predictions = model4.predict(X_test)\n",
        "preds = np.argmax(test_predictions, axis=1)\n",
        "actual_label = np.argmax(y_test, axis=1)\n",
        "print(classification_report(actual_label, preds))"
      ],
      "metadata": {
        "colab": {
          "base_uri": "https://localhost:8080/"
        },
        "id": "XT-gWGXMN1Xz",
        "outputId": "1db17022-6817-4968-9754-2879abf605c7"
      },
      "execution_count": null,
      "outputs": [
        {
          "output_type": "stream",
          "name": "stdout",
          "text": [
            "22/22 [==============================] - 3s 89ms/step\n",
            "              precision    recall  f1-score   support\n",
            "\n",
            "           0       0.74      0.69      0.71       159\n",
            "           1       0.69      0.68      0.68       158\n",
            "           2       0.90      0.98      0.94       193\n",
            "           3       0.94      0.92      0.93       193\n",
            "\n",
            "    accuracy                           0.83       703\n",
            "   macro avg       0.82      0.82      0.82       703\n",
            "weighted avg       0.83      0.83      0.83       703\n",
            "\n"
          ]
        }
      ]
    },
    {
      "cell_type": "code",
      "source": [
        "cnf = confusion_matrix(actual_label, preds)\n",
        "plt.figure(figsize=(8,6), dpi=70, facecolor='w', edgecolor='k')\n",
        "ax = sns.heatmap(cnf, cmap='Blues', annot=True, fmt = 'd', xticklabels=labels, yticklabels=labels)\n",
        "plt.title('Brain Tumor MRI Classification')\n",
        "plt.xlabel('Prediction')\n",
        "plt.ylabel('Ground Truth')\n",
        "plt.show(ax)"
      ],
      "metadata": {
        "colab": {
          "base_uri": "https://localhost:8080/",
          "height": 394
        },
        "id": "ySdsG2Z0N8yx",
        "outputId": "3a4428af-cc84-43ff-d346-d4fda1fd77a5"
      },
      "execution_count": null,
      "outputs": [
        {
          "output_type": "display_data",
          "data": {
            "text/plain": [
              "<Figure size 560x420 with 2 Axes>"
            ],
            "image/png": "[encoded data removed]"
          },
          "metadata": {}
        }
      ]
    },
    {
      "cell_type": "code",
      "source": [
        "os.chdir('/content/drive/MyDrive/Brain_tumor_classification/graph')\n",
        "# !mkdir ResNet50\n",
        "os.chdir('/content/drive/MyDrive/Brain_tumor_classification/graph/ResNet50')\n",
        "import pickle\n",
        "\n",
        "# f = open('history4.pckl', 'wb')\n",
        "# history4 = pickle.dump(history4.history, f)\n",
        "# f.close()\n",
        "\n",
        "f = open('history4.pckl', 'rb')\n",
        "history4 = pickle.load(f)\n",
        "f.close()"
      ],
      "metadata": {
        "colab": {
          "base_uri": "https://localhost:8080/"
        },
        "id": "phgLNx4iN9en",
        "outputId": "fd39ab9f-b413-4ef8-eb0e-d3910f9bcee6"
      },
      "execution_count": null,
      "outputs": [
        {
          "output_type": "stream",
          "name": "stdout",
          "text": [
            "mkdir: cannot create directory ‘ResNet50’: File exists\n"
          ]
        }
      ]
    },
    {
      "cell_type": "code",
      "source": [
        "os.chdir('/content/drive/MyDrive/Brain_tumor_classification/saved/')\n",
        "!ls"
      ],
      "metadata": {
        "colab": {
          "base_uri": "https://localhost:8080/"
        },
        "id": "fkV-K313OJq0",
        "outputId": "33ee5bac-d588-493d-ddeb-c97b68b1e702"
      },
      "execution_count": null,
      "outputs": [
        {
          "output_type": "stream",
          "name": "stdout",
          "text": [
            "CNN.h5\tMobileNetv2.h5\tResNet50.h5  VGG16.h5\n"
          ]
        }
      ]
    },
    {
      "cell_type": "code",
      "source": [
        "model4.save('ResNet50.h5', save_format='h5')"
      ],
      "metadata": {
        "id": "faoxIDFlON5M"
      },
      "execution_count": null,
      "outputs": []
    },
    {
      "cell_type": "code",
      "source": [
        "plt.plot(history2[\"loss\"],c = \"red\")\n",
        "plt.plot(history3[\"loss\"],c = \"green\")\n",
        "plt.plot(history4[\"loss\"],c = \"purple\")\n",
        "plt.title(\"Training_Loss\")\n",
        "plt.ylabel(\"Loss\")\n",
        "plt.xlabel(\"Epochs\")\n",
        "plt.legend([\"VGG-16\", \"MobileNetV2\", \"ResNet-50\"])\n",
        "plt.show()"
      ],
      "metadata": {
        "colab": {
          "base_uri": "https://localhost:8080/",
          "height": 295
        },
        "id": "pcJptFOV6Epk",
        "outputId": "3ac04e97-99b8-4351-9fe2-ce88e92b8bdc"
      },
      "execution_count": null,
      "outputs": [
        {
          "output_type": "display_data",
          "data": {
            "text/plain": [
              "<Figure size 432x288 with 1 Axes>"
            ],
            "image/png": "[encoded data removed]"
          },
          "metadata": {
            "needs_background": "light"
          }
        }
      ]
    },
    {
      "cell_type": "code",
      "source": [
        "plt.plot(history2[\"val_loss\"],c = \"red\")\n",
        "plt.plot(history3[\"val_loss\"],c = \"green\")\n",
        "plt.plot(history4[\"val_loss\"],c = \"purple\")\n",
        "plt.title(\"Validation_Loss\")\n",
        "plt.ylabel(\"Loss\")\n",
        "plt.xlabel(\"Epochs\")\n",
        "plt.legend([\"VGG-16\", \"MobileNetV2\", \"ResNet-50\"])\n",
        "plt.show()"
      ],
      "metadata": {
        "colab": {
          "base_uri": "https://localhost:8080/",
          "height": 295
        },
        "id": "8Mbpm55V6xjI",
        "outputId": "7ef23b57-4f03-481c-e7d5-10483ffb1268"
      },
      "execution_count": null,
      "outputs": [
        {
          "output_type": "display_data",
          "data": {
            "text/plain": [
              "<Figure size 432x288 with 1 Axes>"
            ],
            "image/png": "[encoded data removed]"
          },
          "metadata": {
            "needs_background": "light"
          }
        }
      ]
    },
    {
      "cell_type": "code",
      "source": [
        "plt.plot(history2[\"accuracy\"],c = \"red\")\n",
        "plt.plot(history3[\"accuracy\"],c = \"green\")\n",
        "plt.plot(history4[\"accuracy\"],c = \"purple\")\n",
        "plt.title(\"Training_Accuracy\")\n",
        "plt.ylabel(\"Accuracy\")\n",
        "plt.xlabel(\"Epochs\")\n",
        "plt.legend([\"VGG-16\", \"MobileNetV2\", \"ResNet-50\"])\n",
        "plt.show()"
      ],
      "metadata": {
        "colab": {
          "base_uri": "https://localhost:8080/",
          "height": 295
        },
        "id": "-1PIhS5d64Vu",
        "outputId": "471e96d3-7bec-4f9d-933d-64e3b20511fe"
      },
      "execution_count": null,
      "outputs": [
        {
          "output_type": "display_data",
          "data": {
            "text/plain": [
              "<Figure size 432x288 with 1 Axes>"
            ],
            "image/png": "[encoded data removed]"
          },
          "metadata": {
            "needs_background": "light"
          }
        }
      ]
    },
    {
      "cell_type": "code",
      "source": [
        "plt.plot(history2[\"val_accuracy\"],c = \"red\")\n",
        "plt.plot(history3[\"val_accuracy\"],c = \"green\")\n",
        "plt.plot(history4[\"val_accuracy\"],c = \"purple\")\n",
        "plt.title(\"Validation_Accuracy\")\n",
        "plt.ylabel(\"Accuracy\")\n",
        "plt.xlabel(\"Epochs\")\n",
        "plt.legend([\"VGG-16\", \"MobileNetV2\", \"ResNet-50\"])\n",
        "plt.show()"
      ],
      "metadata": {
        "colab": {
          "base_uri": "https://localhost:8080/",
          "height": 295
        },
        "id": "uOyUoJlK7YNR",
        "outputId": "862335ea-6e35-4885-b905-11436041967c"
      },
      "execution_count": null,
      "outputs": [
        {
          "output_type": "display_data",
          "data": {
            "text/plain": [
              "<Figure size 432x288 with 1 Axes>"
            ],
            "image/png": "[encoded data removed]"
          },
          "metadata": {
            "needs_background": "light"
          }
        }
      ]
    }
  ]
}